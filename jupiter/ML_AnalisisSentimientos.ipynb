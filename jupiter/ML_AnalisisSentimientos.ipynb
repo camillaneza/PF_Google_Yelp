{
 "cells": [
  {
   "cell_type": "code",
   "execution_count": 2,
   "metadata": {},
   "outputs": [
    {
     "name": "stderr",
     "output_type": "stream",
     "text": [
      "C:\\Users\\Usuario\\AppData\\Local\\Temp\\ipykernel_11176\\4080736814.py:1: DeprecationWarning: \n",
      "Pyarrow will become a required dependency of pandas in the next major release of pandas (pandas 3.0),\n",
      "(to allow more performant data types, such as the Arrow string type, and better interoperability with other libraries)\n",
      "but was not found to be installed on your system.\n",
      "If this would cause problems for you,\n",
      "please provide us feedback at https://github.com/pandas-dev/pandas/issues/54466\n",
      "        \n",
      "  import pandas as pd\n"
     ]
    }
   ],
   "source": [
    "import pandas as pd"
   ]
  },
  {
   "cell_type": "code",
   "execution_count": 2,
   "metadata": {},
   "outputs": [],
   "source": [
    "df_data = pd.read_csv('../data/df_restaurante_review.csv')"
   ]
  },
  {
   "cell_type": "code",
   "execution_count": 3,
   "metadata": {},
   "outputs": [],
   "source": [
    "# Config Pandas para mostrar todas las columnas\n",
    "pd.set_option('display.max_columns', None)  # Mostrar todas las columnas"
   ]
  },
  {
   "cell_type": "code",
   "execution_count": 4,
   "metadata": {},
   "outputs": [
    {
     "data": {
      "text/html": [
       "<div>\n",
       "<style scoped>\n",
       "    .dataframe tbody tr th:only-of-type {\n",
       "        vertical-align: middle;\n",
       "    }\n",
       "\n",
       "    .dataframe tbody tr th {\n",
       "        vertical-align: top;\n",
       "    }\n",
       "\n",
       "    .dataframe thead th {\n",
       "        text-align: right;\n",
       "    }\n",
       "</style>\n",
       "<table border=\"1\" class=\"dataframe\">\n",
       "  <thead>\n",
       "    <tr style=\"text-align: right;\">\n",
       "      <th></th>\n",
       "      <th>business_id</th>\n",
       "      <th>name</th>\n",
       "      <th>address</th>\n",
       "      <th>city</th>\n",
       "      <th>state</th>\n",
       "      <th>postal_code</th>\n",
       "      <th>latitude</th>\n",
       "      <th>longitude</th>\n",
       "      <th>stars_x</th>\n",
       "      <th>review_count</th>\n",
       "      <th>is_open</th>\n",
       "      <th>attributes</th>\n",
       "      <th>categories</th>\n",
       "      <th>hours</th>\n",
       "      <th>review_id</th>\n",
       "      <th>user_id</th>\n",
       "      <th>stars_y</th>\n",
       "      <th>useful</th>\n",
       "      <th>funny</th>\n",
       "      <th>cool</th>\n",
       "      <th>text</th>\n",
       "      <th>date</th>\n",
       "      <th>year</th>\n",
       "      <th>month</th>\n",
       "      <th>day</th>\n",
       "      <th>hour</th>\n",
       "    </tr>\n",
       "  </thead>\n",
       "  <tbody>\n",
       "    <tr>\n",
       "      <th>0</th>\n",
       "      <td>0bPLkL0QhhPO5kt1_EXmNQ</td>\n",
       "      <td>Zio's Italian Market</td>\n",
       "      <td>2575 E Bay Dr</td>\n",
       "      <td>Largo</td>\n",
       "      <td>FL</td>\n",
       "      <td>33771</td>\n",
       "      <td>27.916116</td>\n",
       "      <td>-82.760461</td>\n",
       "      <td>4.5</td>\n",
       "      <td>NaN</td>\n",
       "      <td>0</td>\n",
       "      <td>{'OutdoorSeating': 'False', 'RestaurantsGoodFo...</td>\n",
       "      <td>Food, Delis, Italian, Bakeries, Restaurants</td>\n",
       "      <td>{'Monday': '10:0-18:0', 'Tuesday': '10:0-20:0'...</td>\n",
       "      <td>oTTuahWNWzX_018P6O6_2g</td>\n",
       "      <td>z1Dfj8kz3KCArkXaIyaBIA</td>\n",
       "      <td>1.0</td>\n",
       "      <td>6</td>\n",
       "      <td>1</td>\n",
       "      <td>0</td>\n",
       "      <td>The worst Chicken Parm. Sandwich I've ever eat...</td>\n",
       "      <td>2014-05-25 21:52:30</td>\n",
       "      <td>2014</td>\n",
       "      <td>5</td>\n",
       "      <td>25</td>\n",
       "      <td>21</td>\n",
       "    </tr>\n",
       "    <tr>\n",
       "      <th>1</th>\n",
       "      <td>0bPLkL0QhhPO5kt1_EXmNQ</td>\n",
       "      <td>Zio's Italian Market</td>\n",
       "      <td>2575 E Bay Dr</td>\n",
       "      <td>Largo</td>\n",
       "      <td>FL</td>\n",
       "      <td>33771</td>\n",
       "      <td>27.916116</td>\n",
       "      <td>-82.760461</td>\n",
       "      <td>4.5</td>\n",
       "      <td>NaN</td>\n",
       "      <td>0</td>\n",
       "      <td>{'OutdoorSeating': 'False', 'RestaurantsGoodFo...</td>\n",
       "      <td>Food, Delis, Italian, Bakeries, Restaurants</td>\n",
       "      <td>{'Monday': '10:0-18:0', 'Tuesday': '10:0-20:0'...</td>\n",
       "      <td>R7DC4sHDcklrk1s1K93FDA</td>\n",
       "      <td>HvgKiuV36e9SzNqeA5zOfA</td>\n",
       "      <td>4.0</td>\n",
       "      <td>0</td>\n",
       "      <td>0</td>\n",
       "      <td>0</td>\n",
       "      <td>Zio's, previously known as Cesarina's is a lar...</td>\n",
       "      <td>2018-07-26 16:25:04</td>\n",
       "      <td>2018</td>\n",
       "      <td>7</td>\n",
       "      <td>26</td>\n",
       "      <td>16</td>\n",
       "    </tr>\n",
       "    <tr>\n",
       "      <th>2</th>\n",
       "      <td>0bPLkL0QhhPO5kt1_EXmNQ</td>\n",
       "      <td>Zio's Italian Market</td>\n",
       "      <td>2575 E Bay Dr</td>\n",
       "      <td>Largo</td>\n",
       "      <td>FL</td>\n",
       "      <td>33771</td>\n",
       "      <td>27.916116</td>\n",
       "      <td>-82.760461</td>\n",
       "      <td>4.5</td>\n",
       "      <td>NaN</td>\n",
       "      <td>0</td>\n",
       "      <td>{'OutdoorSeating': 'False', 'RestaurantsGoodFo...</td>\n",
       "      <td>Food, Delis, Italian, Bakeries, Restaurants</td>\n",
       "      <td>{'Monday': '10:0-18:0', 'Tuesday': '10:0-20:0'...</td>\n",
       "      <td>8kDLAf-muASQfs5zDXpiyw</td>\n",
       "      <td>7BhiY0D84Lj04kjEWn5fIQ</td>\n",
       "      <td>5.0</td>\n",
       "      <td>0</td>\n",
       "      <td>0</td>\n",
       "      <td>0</td>\n",
       "      <td>As an update to my previous review, we had tri...</td>\n",
       "      <td>2018-04-28 00:32:12</td>\n",
       "      <td>2018</td>\n",
       "      <td>4</td>\n",
       "      <td>28</td>\n",
       "      <td>0</td>\n",
       "    </tr>\n",
       "    <tr>\n",
       "      <th>3</th>\n",
       "      <td>0bPLkL0QhhPO5kt1_EXmNQ</td>\n",
       "      <td>Zio's Italian Market</td>\n",
       "      <td>2575 E Bay Dr</td>\n",
       "      <td>Largo</td>\n",
       "      <td>FL</td>\n",
       "      <td>33771</td>\n",
       "      <td>27.916116</td>\n",
       "      <td>-82.760461</td>\n",
       "      <td>4.5</td>\n",
       "      <td>NaN</td>\n",
       "      <td>0</td>\n",
       "      <td>{'OutdoorSeating': 'False', 'RestaurantsGoodFo...</td>\n",
       "      <td>Food, Delis, Italian, Bakeries, Restaurants</td>\n",
       "      <td>{'Monday': '10:0-18:0', 'Tuesday': '10:0-20:0'...</td>\n",
       "      <td>KupYGAYqAKVLP9cspQ-9TQ</td>\n",
       "      <td>0EjWviHaYwdaMaD8VBOHWA</td>\n",
       "      <td>5.0</td>\n",
       "      <td>1</td>\n",
       "      <td>1</td>\n",
       "      <td>0</td>\n",
       "      <td>The little deli belongs in little Italy. Wonde...</td>\n",
       "      <td>2015-08-30 18:56:08</td>\n",
       "      <td>2015</td>\n",
       "      <td>8</td>\n",
       "      <td>30</td>\n",
       "      <td>18</td>\n",
       "    </tr>\n",
       "    <tr>\n",
       "      <th>4</th>\n",
       "      <td>0bPLkL0QhhPO5kt1_EXmNQ</td>\n",
       "      <td>Zio's Italian Market</td>\n",
       "      <td>2575 E Bay Dr</td>\n",
       "      <td>Largo</td>\n",
       "      <td>FL</td>\n",
       "      <td>33771</td>\n",
       "      <td>27.916116</td>\n",
       "      <td>-82.760461</td>\n",
       "      <td>4.5</td>\n",
       "      <td>NaN</td>\n",
       "      <td>0</td>\n",
       "      <td>{'OutdoorSeating': 'False', 'RestaurantsGoodFo...</td>\n",
       "      <td>Food, Delis, Italian, Bakeries, Restaurants</td>\n",
       "      <td>{'Monday': '10:0-18:0', 'Tuesday': '10:0-20:0'...</td>\n",
       "      <td>hl4dIQIKphmMWH59WrO5-g</td>\n",
       "      <td>E47ejL3krT1wG8NvgtJDgw</td>\n",
       "      <td>4.0</td>\n",
       "      <td>2</td>\n",
       "      <td>1</td>\n",
       "      <td>1</td>\n",
       "      <td>Very good food for very good prices. I had the...</td>\n",
       "      <td>2011-10-28 20:06:00</td>\n",
       "      <td>2011</td>\n",
       "      <td>10</td>\n",
       "      <td>28</td>\n",
       "      <td>20</td>\n",
       "    </tr>\n",
       "  </tbody>\n",
       "</table>\n",
       "</div>"
      ],
      "text/plain": [
       "              business_id                  name        address   city state  \\\n",
       "0  0bPLkL0QhhPO5kt1_EXmNQ  Zio's Italian Market  2575 E Bay Dr  Largo    FL   \n",
       "1  0bPLkL0QhhPO5kt1_EXmNQ  Zio's Italian Market  2575 E Bay Dr  Largo    FL   \n",
       "2  0bPLkL0QhhPO5kt1_EXmNQ  Zio's Italian Market  2575 E Bay Dr  Largo    FL   \n",
       "3  0bPLkL0QhhPO5kt1_EXmNQ  Zio's Italian Market  2575 E Bay Dr  Largo    FL   \n",
       "4  0bPLkL0QhhPO5kt1_EXmNQ  Zio's Italian Market  2575 E Bay Dr  Largo    FL   \n",
       "\n",
       "  postal_code   latitude  longitude  stars_x  review_count  is_open  \\\n",
       "0       33771  27.916116 -82.760461      4.5           NaN        0   \n",
       "1       33771  27.916116 -82.760461      4.5           NaN        0   \n",
       "2       33771  27.916116 -82.760461      4.5           NaN        0   \n",
       "3       33771  27.916116 -82.760461      4.5           NaN        0   \n",
       "4       33771  27.916116 -82.760461      4.5           NaN        0   \n",
       "\n",
       "                                          attributes  \\\n",
       "0  {'OutdoorSeating': 'False', 'RestaurantsGoodFo...   \n",
       "1  {'OutdoorSeating': 'False', 'RestaurantsGoodFo...   \n",
       "2  {'OutdoorSeating': 'False', 'RestaurantsGoodFo...   \n",
       "3  {'OutdoorSeating': 'False', 'RestaurantsGoodFo...   \n",
       "4  {'OutdoorSeating': 'False', 'RestaurantsGoodFo...   \n",
       "\n",
       "                                    categories  \\\n",
       "0  Food, Delis, Italian, Bakeries, Restaurants   \n",
       "1  Food, Delis, Italian, Bakeries, Restaurants   \n",
       "2  Food, Delis, Italian, Bakeries, Restaurants   \n",
       "3  Food, Delis, Italian, Bakeries, Restaurants   \n",
       "4  Food, Delis, Italian, Bakeries, Restaurants   \n",
       "\n",
       "                                               hours               review_id  \\\n",
       "0  {'Monday': '10:0-18:0', 'Tuesday': '10:0-20:0'...  oTTuahWNWzX_018P6O6_2g   \n",
       "1  {'Monday': '10:0-18:0', 'Tuesday': '10:0-20:0'...  R7DC4sHDcklrk1s1K93FDA   \n",
       "2  {'Monday': '10:0-18:0', 'Tuesday': '10:0-20:0'...  8kDLAf-muASQfs5zDXpiyw   \n",
       "3  {'Monday': '10:0-18:0', 'Tuesday': '10:0-20:0'...  KupYGAYqAKVLP9cspQ-9TQ   \n",
       "4  {'Monday': '10:0-18:0', 'Tuesday': '10:0-20:0'...  hl4dIQIKphmMWH59WrO5-g   \n",
       "\n",
       "                  user_id  stars_y  useful  funny  cool  \\\n",
       "0  z1Dfj8kz3KCArkXaIyaBIA      1.0       6      1     0   \n",
       "1  HvgKiuV36e9SzNqeA5zOfA      4.0       0      0     0   \n",
       "2  7BhiY0D84Lj04kjEWn5fIQ      5.0       0      0     0   \n",
       "3  0EjWviHaYwdaMaD8VBOHWA      5.0       1      1     0   \n",
       "4  E47ejL3krT1wG8NvgtJDgw      4.0       2      1     1   \n",
       "\n",
       "                                                text                 date  \\\n",
       "0  The worst Chicken Parm. Sandwich I've ever eat...  2014-05-25 21:52:30   \n",
       "1  Zio's, previously known as Cesarina's is a lar...  2018-07-26 16:25:04   \n",
       "2  As an update to my previous review, we had tri...  2018-04-28 00:32:12   \n",
       "3  The little deli belongs in little Italy. Wonde...  2015-08-30 18:56:08   \n",
       "4  Very good food for very good prices. I had the...  2011-10-28 20:06:00   \n",
       "\n",
       "   year  month  day  hour  \n",
       "0  2014      5   25    21  \n",
       "1  2018      7   26    16  \n",
       "2  2018      4   28     0  \n",
       "3  2015      8   30    18  \n",
       "4  2011     10   28    20  "
      ]
     },
     "execution_count": 4,
     "metadata": {},
     "output_type": "execute_result"
    }
   ],
   "source": [
    "df_data.head()"
   ]
  },
  {
   "cell_type": "markdown",
   "metadata": {},
   "source": [
    "Se utilizará la columna 'text' para analizar y predecir si el resultado podría ser positivo o negativo. Se utilizará la biblioteca langdetect. Esta biblioteca permite detectar automáticamente el idioma de un texto dado."
   ]
  },
  {
   "cell_type": "code",
   "execution_count": 5,
   "metadata": {},
   "outputs": [
    {
     "name": "stdout",
     "output_type": "stream",
     "text": [
      "Requirement already satisfied: langdetect in c:\\users\\usuario\\desktop\\proyectos\\pf_google_yelp\\proy_final\\lib\\site-packages (1.0.9)\n",
      "Requirement already satisfied: six in c:\\users\\usuario\\desktop\\proyectos\\pf_google_yelp\\proy_final\\lib\\site-packages (from langdetect) (1.16.0)\n"
     ]
    },
    {
     "name": "stderr",
     "output_type": "stream",
     "text": [
      "\n",
      "[notice] A new release of pip is available: 23.1.2 -> 24.0\n",
      "[notice] To update, run: python.exe -m pip install --upgrade pip\n"
     ]
    }
   ],
   "source": [
    "#Se instala la librería langdetect con pip install.\n",
    "!pip install langdetect"
   ]
  },
  {
   "cell_type": "markdown",
   "metadata": {},
   "source": [
    " -----------------------Se importa la función 'detect' desde la biblioteca langdetect para detectar el idioma deseado de un texto."
   ]
  },
  {
   "cell_type": "code",
   "execution_count": 6,
   "metadata": {},
   "outputs": [],
   "source": [
    "from langdetect import detect"
   ]
  },
  {
   "cell_type": "markdown",
   "metadata": {},
   "source": [
    "------------ Se realiza una función para detectar las palabras en inglés y que eliminen las que no.-----------------------"
   ]
  },
  {
   "cell_type": "code",
   "execution_count": 7,
   "metadata": {},
   "outputs": [],
   "source": [
    "def es_ingles(palabra): # Toma como parámetro una palabra y devuelve un valor booleano (V o F) sabiendo si es palabra en español e inglés.\n",
    "    if not palabra:\n",
    "        return False # Si la palabra está vacía o nula devuelve 'False'.\n",
    "    try:\n",
    "        idioma = detect(palabra)\n",
    "        return idioma == 'en' # Si el idioma es inglés devuelve 'True'.\n",
    "    except:\n",
    "        return False  # Si la palabra tiene un error o no se procesa correctamente devuelve 'False'."
   ]
  },
  {
   "cell_type": "markdown",
   "metadata": {},
   "source": [
    "-------------- Se aplica la función en la base de datos y las palabras que no sean en inglés las reemplaza con '|'"
   ]
  },
  {
   "cell_type": "code",
   "execution_count": 8,
   "metadata": {},
   "outputs": [],
   "source": [
    "\n",
    "# Eliminamos las palabras que no sean inglés\n",
    "df_data['text'] = df_data['text'].apply(lambda palabra: '|' if not es_ingles(palabra) else palabra)"
   ]
  },
  {
   "cell_type": "code",
   "execution_count": 12,
   "metadata": {},
   "outputs": [
    {
     "data": {
      "text/html": [
       "<div>\n",
       "<style scoped>\n",
       "    .dataframe tbody tr th:only-of-type {\n",
       "        vertical-align: middle;\n",
       "    }\n",
       "\n",
       "    .dataframe tbody tr th {\n",
       "        vertical-align: top;\n",
       "    }\n",
       "\n",
       "    .dataframe thead th {\n",
       "        text-align: right;\n",
       "    }\n",
       "</style>\n",
       "<table border=\"1\" class=\"dataframe\">\n",
       "  <thead>\n",
       "    <tr style=\"text-align: right;\">\n",
       "      <th></th>\n",
       "      <th>business_id</th>\n",
       "      <th>name</th>\n",
       "      <th>address</th>\n",
       "      <th>city</th>\n",
       "      <th>state</th>\n",
       "      <th>postal_code</th>\n",
       "      <th>latitude</th>\n",
       "      <th>longitude</th>\n",
       "      <th>stars_x</th>\n",
       "      <th>review_count</th>\n",
       "      <th>is_open</th>\n",
       "      <th>attributes</th>\n",
       "      <th>categories</th>\n",
       "      <th>hours</th>\n",
       "      <th>review_id</th>\n",
       "      <th>user_id</th>\n",
       "      <th>stars_y</th>\n",
       "      <th>useful</th>\n",
       "      <th>funny</th>\n",
       "      <th>cool</th>\n",
       "      <th>text</th>\n",
       "      <th>date</th>\n",
       "      <th>year</th>\n",
       "      <th>month</th>\n",
       "      <th>day</th>\n",
       "      <th>hour</th>\n",
       "    </tr>\n",
       "  </thead>\n",
       "  <tbody>\n",
       "    <tr>\n",
       "      <th>235152</th>\n",
       "      <td>_LOJW0XkOpj4O348GVRDeQ</td>\n",
       "      <td>Zavino</td>\n",
       "      <td>112 S 13th St</td>\n",
       "      <td>Philadelphia</td>\n",
       "      <td>FL</td>\n",
       "      <td>19107</td>\n",
       "      <td>39.949954</td>\n",
       "      <td>-75.162142</td>\n",
       "      <td>4.0</td>\n",
       "      <td>NaN</td>\n",
       "      <td>0</td>\n",
       "      <td>{'HasTV': 'True', 'OutdoorSeating': 'True', 'B...</td>\n",
       "      <td>Italian, Wine Bars, Bars, Mediterranean, Pizza...</td>\n",
       "      <td>{'Monday': '11:30-23:0', 'Tuesday': '11:30-23:...</td>\n",
       "      <td>AebqbY7IimzXphgR0_L8Kw</td>\n",
       "      <td>uMXOs9Kmrp3CUCvB0eA1Zw</td>\n",
       "      <td>4.0</td>\n",
       "      <td>2</td>\n",
       "      <td>2</td>\n",
       "      <td>1</td>\n",
       "      <td>This place is spot on, great pizza, they're do...</td>\n",
       "      <td>2011-03-21 04:32:57</td>\n",
       "      <td>2011</td>\n",
       "      <td>3</td>\n",
       "      <td>21</td>\n",
       "      <td>4</td>\n",
       "    </tr>\n",
       "    <tr>\n",
       "      <th>119786</th>\n",
       "      <td>-W0tnXYJ4WuxLjzmbwlVAQ</td>\n",
       "      <td>Tavolo V</td>\n",
       "      <td>6118 Delmar Blvd</td>\n",
       "      <td>Saint Louis</td>\n",
       "      <td>FL</td>\n",
       "      <td>63112</td>\n",
       "      <td>38.655158</td>\n",
       "      <td>-90.296835</td>\n",
       "      <td>4.0</td>\n",
       "      <td>NaN</td>\n",
       "      <td>0</td>\n",
       "      <td>{'RestaurantsTakeOut': 'True', 'Alcohol': \"u'f...</td>\n",
       "      <td>Mediterranean, Italian, Restaurants, Pizza</td>\n",
       "      <td>{'Monday': '17:0-21:0', 'Tuesday': '17:0-21:0'...</td>\n",
       "      <td>5RrkHLI47Ng8xcbI5sVz-g</td>\n",
       "      <td>6LMueBvjB5tVod-VojMi2A</td>\n",
       "      <td>2.0</td>\n",
       "      <td>0</td>\n",
       "      <td>0</td>\n",
       "      <td>0</td>\n",
       "      <td>We went last night very excited to try a new p...</td>\n",
       "      <td>2012-06-11 12:25:14</td>\n",
       "      <td>2012</td>\n",
       "      <td>6</td>\n",
       "      <td>11</td>\n",
       "      <td>12</td>\n",
       "    </tr>\n",
       "    <tr>\n",
       "      <th>188110</th>\n",
       "      <td>oysBCaEPjvxKcsufe0OeXA</td>\n",
       "      <td>Thai Bistro</td>\n",
       "      <td>5414 Main St</td>\n",
       "      <td>New Port Richey</td>\n",
       "      <td>FL</td>\n",
       "      <td>34652</td>\n",
       "      <td>28.249777</td>\n",
       "      <td>-82.724872</td>\n",
       "      <td>4.0</td>\n",
       "      <td>NaN</td>\n",
       "      <td>1</td>\n",
       "      <td>{'RestaurantsReservations': 'True', 'Restauran...</td>\n",
       "      <td>Restaurants, Thai</td>\n",
       "      <td>{'Monday': '16:0-21:0', 'Tuesday': '16:0-21:0'...</td>\n",
       "      <td>Fi0U8QUzSa3D-iwLujIF-A</td>\n",
       "      <td>YajvCToSwtoBelgnuiYoxg</td>\n",
       "      <td>5.0</td>\n",
       "      <td>0</td>\n",
       "      <td>0</td>\n",
       "      <td>0</td>\n",
       "      <td>Wife and I went here for the first time and I ...</td>\n",
       "      <td>2017-05-06 22:57:16</td>\n",
       "      <td>2017</td>\n",
       "      <td>5</td>\n",
       "      <td>6</td>\n",
       "      <td>22</td>\n",
       "    </tr>\n",
       "    <tr>\n",
       "      <th>57243</th>\n",
       "      <td>CxQ5GonUhGjgfX8REEFjdw</td>\n",
       "      <td>Yogi's Pizzeria</td>\n",
       "      <td>4825 Trousdale Dr</td>\n",
       "      <td>Nashville</td>\n",
       "      <td>FL</td>\n",
       "      <td>37220</td>\n",
       "      <td>36.075488</td>\n",
       "      <td>-86.760279</td>\n",
       "      <td>4.5</td>\n",
       "      <td>NaN</td>\n",
       "      <td>1</td>\n",
       "      <td>{'RestaurantsDelivery': 'True', 'OutdoorSeatin...</td>\n",
       "      <td>Pizza, Ice Cream &amp; Frozen Yogurt, Food, Restau...</td>\n",
       "      <td>{'Tuesday': '15:0-21:0', 'Wednesday': '15:0-21...</td>\n",
       "      <td>jjiByKCX5GLFZraZAVk6dQ</td>\n",
       "      <td>zJLofNR2MCbgtx5ey1V3Fw</td>\n",
       "      <td>5.0</td>\n",
       "      <td>1</td>\n",
       "      <td>0</td>\n",
       "      <td>0</td>\n",
       "      <td>Tasty pizza and delicious ice cream! We got th...</td>\n",
       "      <td>2021-07-02 14:08:12</td>\n",
       "      <td>2021</td>\n",
       "      <td>7</td>\n",
       "      <td>2</td>\n",
       "      <td>14</td>\n",
       "    </tr>\n",
       "    <tr>\n",
       "      <th>92115</th>\n",
       "      <td>6Z89Ixagyc0mrVnyZHiIVw</td>\n",
       "      <td>Catch Twenty Three</td>\n",
       "      <td>10103 Montague St</td>\n",
       "      <td>Tampa</td>\n",
       "      <td>FL</td>\n",
       "      <td>33626</td>\n",
       "      <td>28.043357</td>\n",
       "      <td>-82.597100</td>\n",
       "      <td>4.0</td>\n",
       "      <td>NaN</td>\n",
       "      <td>1</td>\n",
       "      <td>{'BusinessParking': \"{'garage': False, 'street...</td>\n",
       "      <td>Restaurants, Latin American, Caribbean, Sushi ...</td>\n",
       "      <td>{'Monday': '0:0-0:0', 'Tuesday': '16:30-21:30'...</td>\n",
       "      <td>uOCwel9H-U4WPefcb4hnUQ</td>\n",
       "      <td>dnRQ1odYQ7xYne-qXDY8vA</td>\n",
       "      <td>3.0</td>\n",
       "      <td>1</td>\n",
       "      <td>0</td>\n",
       "      <td>1</td>\n",
       "      <td>I like the ambiance of this place- we sat outs...</td>\n",
       "      <td>2020-02-09 19:38:03</td>\n",
       "      <td>2020</td>\n",
       "      <td>2</td>\n",
       "      <td>9</td>\n",
       "      <td>19</td>\n",
       "    </tr>\n",
       "  </tbody>\n",
       "</table>\n",
       "</div>"
      ],
      "text/plain": [
       "                   business_id                name            address  \\\n",
       "235152  _LOJW0XkOpj4O348GVRDeQ              Zavino      112 S 13th St   \n",
       "119786  -W0tnXYJ4WuxLjzmbwlVAQ            Tavolo V   6118 Delmar Blvd   \n",
       "188110  oysBCaEPjvxKcsufe0OeXA         Thai Bistro       5414 Main St   \n",
       "57243   CxQ5GonUhGjgfX8REEFjdw     Yogi's Pizzeria  4825 Trousdale Dr   \n",
       "92115   6Z89Ixagyc0mrVnyZHiIVw  Catch Twenty Three  10103 Montague St   \n",
       "\n",
       "                   city state postal_code   latitude  longitude  stars_x  \\\n",
       "235152     Philadelphia    FL       19107  39.949954 -75.162142      4.0   \n",
       "119786      Saint Louis    FL       63112  38.655158 -90.296835      4.0   \n",
       "188110  New Port Richey    FL       34652  28.249777 -82.724872      4.0   \n",
       "57243         Nashville    FL       37220  36.075488 -86.760279      4.5   \n",
       "92115             Tampa    FL       33626  28.043357 -82.597100      4.0   \n",
       "\n",
       "        review_count  is_open  \\\n",
       "235152           NaN        0   \n",
       "119786           NaN        0   \n",
       "188110           NaN        1   \n",
       "57243            NaN        1   \n",
       "92115            NaN        1   \n",
       "\n",
       "                                               attributes  \\\n",
       "235152  {'HasTV': 'True', 'OutdoorSeating': 'True', 'B...   \n",
       "119786  {'RestaurantsTakeOut': 'True', 'Alcohol': \"u'f...   \n",
       "188110  {'RestaurantsReservations': 'True', 'Restauran...   \n",
       "57243   {'RestaurantsDelivery': 'True', 'OutdoorSeatin...   \n",
       "92115   {'BusinessParking': \"{'garage': False, 'street...   \n",
       "\n",
       "                                               categories  \\\n",
       "235152  Italian, Wine Bars, Bars, Mediterranean, Pizza...   \n",
       "119786         Mediterranean, Italian, Restaurants, Pizza   \n",
       "188110                                  Restaurants, Thai   \n",
       "57243   Pizza, Ice Cream & Frozen Yogurt, Food, Restau...   \n",
       "92115   Restaurants, Latin American, Caribbean, Sushi ...   \n",
       "\n",
       "                                                    hours  \\\n",
       "235152  {'Monday': '11:30-23:0', 'Tuesday': '11:30-23:...   \n",
       "119786  {'Monday': '17:0-21:0', 'Tuesday': '17:0-21:0'...   \n",
       "188110  {'Monday': '16:0-21:0', 'Tuesday': '16:0-21:0'...   \n",
       "57243   {'Tuesday': '15:0-21:0', 'Wednesday': '15:0-21...   \n",
       "92115   {'Monday': '0:0-0:0', 'Tuesday': '16:30-21:30'...   \n",
       "\n",
       "                     review_id                 user_id  stars_y  useful  \\\n",
       "235152  AebqbY7IimzXphgR0_L8Kw  uMXOs9Kmrp3CUCvB0eA1Zw      4.0       2   \n",
       "119786  5RrkHLI47Ng8xcbI5sVz-g  6LMueBvjB5tVod-VojMi2A      2.0       0   \n",
       "188110  Fi0U8QUzSa3D-iwLujIF-A  YajvCToSwtoBelgnuiYoxg      5.0       0   \n",
       "57243   jjiByKCX5GLFZraZAVk6dQ  zJLofNR2MCbgtx5ey1V3Fw      5.0       1   \n",
       "92115   uOCwel9H-U4WPefcb4hnUQ  dnRQ1odYQ7xYne-qXDY8vA      3.0       1   \n",
       "\n",
       "        funny  cool                                               text  \\\n",
       "235152      2     1  This place is spot on, great pizza, they're do...   \n",
       "119786      0     0  We went last night very excited to try a new p...   \n",
       "188110      0     0  Wife and I went here for the first time and I ...   \n",
       "57243       0     0  Tasty pizza and delicious ice cream! We got th...   \n",
       "92115       0     1  I like the ambiance of this place- we sat outs...   \n",
       "\n",
       "                       date  year  month  day  hour  \n",
       "235152  2011-03-21 04:32:57  2011      3   21     4  \n",
       "119786  2012-06-11 12:25:14  2012      6   11    12  \n",
       "188110  2017-05-06 22:57:16  2017      5    6    22  \n",
       "57243   2021-07-02 14:08:12  2021      7    2    14  \n",
       "92115   2020-02-09 19:38:03  2020      2    9    19  "
      ]
     },
     "execution_count": 12,
     "metadata": {},
     "output_type": "execute_result"
    }
   ],
   "source": [
    "#verifico en Muestra aleatoria\n",
    "df_data.sample(5)"
   ]
  },
  {
   "cell_type": "markdown",
   "metadata": {},
   "source": [
    "-------------- Se elimina las filas que tienen el símbolo '|'."
   ]
  },
  {
   "cell_type": "code",
   "execution_count": 13,
   "metadata": {},
   "outputs": [],
   "source": [
    "df_data= df_data[df_data['text'] != '|']"
   ]
  },
  {
   "cell_type": "code",
   "execution_count": 14,
   "metadata": {},
   "outputs": [
    {
     "name": "stdout",
     "output_type": "stream",
     "text": [
      "<class 'pandas.core.frame.DataFrame'>\n",
      "Index: 823988 entries, 0 to 824899\n",
      "Data columns (total 26 columns):\n",
      " #   Column        Non-Null Count   Dtype  \n",
      "---  ------        --------------   -----  \n",
      " 0   business_id   823988 non-null  object \n",
      " 1   name          823988 non-null  object \n",
      " 2   address       822099 non-null  object \n",
      " 3   city          823988 non-null  object \n",
      " 4   state         823988 non-null  object \n",
      " 5   postal_code   823962 non-null  object \n",
      " 6   latitude      823988 non-null  float64\n",
      " 7   longitude     823988 non-null  float64\n",
      " 8   stars_x       823988 non-null  float64\n",
      " 9   review_count  0 non-null       float64\n",
      " 10  is_open       823988 non-null  int64  \n",
      " 11  attributes    823221 non-null  object \n",
      " 12  categories    823988 non-null  object \n",
      " 13  hours         795871 non-null  object \n",
      " 14  review_id     823988 non-null  object \n",
      " 15  user_id       823988 non-null  object \n",
      " 16  stars_y       823988 non-null  float64\n",
      " 17  useful        823988 non-null  int64  \n",
      " 18  funny         823988 non-null  int64  \n",
      " 19  cool          823988 non-null  int64  \n",
      " 20  text          823988 non-null  object \n",
      " 21  date          823988 non-null  object \n",
      " 22  year          823988 non-null  int64  \n",
      " 23  month         823988 non-null  int64  \n",
      " 24  day           823988 non-null  int64  \n",
      " 25  hour          823988 non-null  int64  \n",
      "dtypes: float64(5), int64(8), object(13)\n",
      "memory usage: 169.7+ MB\n"
     ]
    }
   ],
   "source": [
    "df_data.info()"
   ]
  },
  {
   "cell_type": "code",
   "execution_count": 18,
   "metadata": {},
   "outputs": [],
   "source": [
    "#limpio el dataset con columnas a utilizar\n",
    "df_data_limpio = df_data[['business_id', 'user_id', 'review_id', 'stars_x', 'stars_y', 'useful', 'funny', 'cool', 'text', 'date']]"
   ]
  },
  {
   "cell_type": "code",
   "execution_count": 19,
   "metadata": {},
   "outputs": [
    {
     "name": "stdout",
     "output_type": "stream",
     "text": [
      "<class 'pandas.core.frame.DataFrame'>\n",
      "Index: 823988 entries, 0 to 824899\n",
      "Data columns (total 10 columns):\n",
      " #   Column       Non-Null Count   Dtype  \n",
      "---  ------       --------------   -----  \n",
      " 0   business_id  823988 non-null  object \n",
      " 1   user_id      823988 non-null  object \n",
      " 2   review_id    823988 non-null  object \n",
      " 3   stars_x      823988 non-null  float64\n",
      " 4   stars_y      823988 non-null  float64\n",
      " 5   useful       823988 non-null  int64  \n",
      " 6   funny        823988 non-null  int64  \n",
      " 7   cool         823988 non-null  int64  \n",
      " 8   text         823988 non-null  object \n",
      " 9   date         823988 non-null  object \n",
      "dtypes: float64(2), int64(3), object(5)\n",
      "memory usage: 69.2+ MB\n"
     ]
    }
   ],
   "source": [
    "df_data_limpio.info()"
   ]
  },
  {
   "cell_type": "code",
   "execution_count": 20,
   "metadata": {},
   "outputs": [
    {
     "data": {
      "text/html": [
       "<div>\n",
       "<style scoped>\n",
       "    .dataframe tbody tr th:only-of-type {\n",
       "        vertical-align: middle;\n",
       "    }\n",
       "\n",
       "    .dataframe tbody tr th {\n",
       "        vertical-align: top;\n",
       "    }\n",
       "\n",
       "    .dataframe thead th {\n",
       "        text-align: right;\n",
       "    }\n",
       "</style>\n",
       "<table border=\"1\" class=\"dataframe\">\n",
       "  <thead>\n",
       "    <tr style=\"text-align: right;\">\n",
       "      <th></th>\n",
       "      <th>business_id</th>\n",
       "      <th>user_id</th>\n",
       "      <th>review_id</th>\n",
       "      <th>stars_x</th>\n",
       "      <th>stars_y</th>\n",
       "      <th>useful</th>\n",
       "      <th>funny</th>\n",
       "      <th>cool</th>\n",
       "      <th>text</th>\n",
       "      <th>date</th>\n",
       "    </tr>\n",
       "  </thead>\n",
       "  <tbody>\n",
       "    <tr>\n",
       "      <th>28270</th>\n",
       "      <td>qxDVtIq0EtvOtVKDwbYOiQ</td>\n",
       "      <td>S9zMHMOyCZCmmZW1bgWE-A</td>\n",
       "      <td>7uVqCyT_azuYLZkb6V0Nxw</td>\n",
       "      <td>2.5</td>\n",
       "      <td>3.0</td>\n",
       "      <td>2</td>\n",
       "      <td>3</td>\n",
       "      <td>2</td>\n",
       "      <td>\"Wow! We have a Tony Romas!?!\" said the man wh...</td>\n",
       "      <td>2014-09-05 14:15:42</td>\n",
       "    </tr>\n",
       "    <tr>\n",
       "      <th>139308</th>\n",
       "      <td>c_wrQJRAH478aAWJajPZ5g</td>\n",
       "      <td>nwsJ-upzjT2qKXyjc-ZAqQ</td>\n",
       "      <td>v2lxA-gd1DckcKSZeubkww</td>\n",
       "      <td>3.5</td>\n",
       "      <td>5.0</td>\n",
       "      <td>0</td>\n",
       "      <td>0</td>\n",
       "      <td>0</td>\n",
       "      <td>Great food. Wonderful pita. Stopped in for lun...</td>\n",
       "      <td>2018-12-28 22:36:26</td>\n",
       "    </tr>\n",
       "    <tr>\n",
       "      <th>795590</th>\n",
       "      <td>l5cKnwfmnaG4QRZl7ZyNuA</td>\n",
       "      <td>Ls0GZBCvaqvGDWzCy3IDig</td>\n",
       "      <td>AL3snvmI3fgWaWdUJtzDog</td>\n",
       "      <td>4.0</td>\n",
       "      <td>4.0</td>\n",
       "      <td>0</td>\n",
       "      <td>0</td>\n",
       "      <td>0</td>\n",
       "      <td>Diavolo pizza and arancini are outstanding. An...</td>\n",
       "      <td>2014-02-18 23:59:33</td>\n",
       "    </tr>\n",
       "    <tr>\n",
       "      <th>508403</th>\n",
       "      <td>q5AbgnNJdCEZBqImP3kOuw</td>\n",
       "      <td>xwUIk77LXi4Pa7LzNyLFTg</td>\n",
       "      <td>FomTVubhuSuUku8Cj3AULg</td>\n",
       "      <td>4.0</td>\n",
       "      <td>4.0</td>\n",
       "      <td>0</td>\n",
       "      <td>0</td>\n",
       "      <td>0</td>\n",
       "      <td>The food here was really good. We ate dinner h...</td>\n",
       "      <td>2019-07-15 20:44:00</td>\n",
       "    </tr>\n",
       "    <tr>\n",
       "      <th>185902</th>\n",
       "      <td>PRsj49qMOyW9fbztKrRglg</td>\n",
       "      <td>Kvr2ee_XgRMkrIf0HEy9Fw</td>\n",
       "      <td>b4ITxilRd31cowO_9RuyTg</td>\n",
       "      <td>3.5</td>\n",
       "      <td>4.0</td>\n",
       "      <td>1</td>\n",
       "      <td>0</td>\n",
       "      <td>0</td>\n",
       "      <td>I'm updating this review to add 1 star.  When ...</td>\n",
       "      <td>2014-01-07 15:51:43</td>\n",
       "    </tr>\n",
       "  </tbody>\n",
       "</table>\n",
       "</div>"
      ],
      "text/plain": [
       "                   business_id                 user_id  \\\n",
       "28270   qxDVtIq0EtvOtVKDwbYOiQ  S9zMHMOyCZCmmZW1bgWE-A   \n",
       "139308  c_wrQJRAH478aAWJajPZ5g  nwsJ-upzjT2qKXyjc-ZAqQ   \n",
       "795590  l5cKnwfmnaG4QRZl7ZyNuA  Ls0GZBCvaqvGDWzCy3IDig   \n",
       "508403  q5AbgnNJdCEZBqImP3kOuw  xwUIk77LXi4Pa7LzNyLFTg   \n",
       "185902  PRsj49qMOyW9fbztKrRglg  Kvr2ee_XgRMkrIf0HEy9Fw   \n",
       "\n",
       "                     review_id  stars_x  stars_y  useful  funny  cool  \\\n",
       "28270   7uVqCyT_azuYLZkb6V0Nxw      2.5      3.0       2      3     2   \n",
       "139308  v2lxA-gd1DckcKSZeubkww      3.5      5.0       0      0     0   \n",
       "795590  AL3snvmI3fgWaWdUJtzDog      4.0      4.0       0      0     0   \n",
       "508403  FomTVubhuSuUku8Cj3AULg      4.0      4.0       0      0     0   \n",
       "185902  b4ITxilRd31cowO_9RuyTg      3.5      4.0       1      0     0   \n",
       "\n",
       "                                                     text                 date  \n",
       "28270   \"Wow! We have a Tony Romas!?!\" said the man wh...  2014-09-05 14:15:42  \n",
       "139308  Great food. Wonderful pita. Stopped in for lun...  2018-12-28 22:36:26  \n",
       "795590  Diavolo pizza and arancini are outstanding. An...  2014-02-18 23:59:33  \n",
       "508403  The food here was really good. We ate dinner h...  2019-07-15 20:44:00  \n",
       "185902  I'm updating this review to add 1 star.  When ...  2014-01-07 15:51:43  "
      ]
     },
     "execution_count": 20,
     "metadata": {},
     "output_type": "execute_result"
    }
   ],
   "source": [
    "df_data_limpio.sample(5)"
   ]
  },
  {
   "cell_type": "markdown",
   "metadata": {},
   "source": [
    "### DISPERCIÓN DE DATOS"
   ]
  },
  {
   "cell_type": "markdown",
   "metadata": {},
   "source": [
    "Instalo la librería 'wordcloud' para poder visualizar las palabras repetidas.\n"
   ]
  },
  {
   "cell_type": "code",
   "execution_count": 7,
   "metadata": {},
   "outputs": [
    {
     "name": "stdout",
     "output_type": "stream",
     "text": [
      "Collecting wordcloud"
     ]
    },
    {
     "name": "stderr",
     "output_type": "stream",
     "text": [
      "\n",
      "[notice] A new release of pip is available: 23.1.2 -> 24.0\n",
      "[notice] To update, run: python.exe -m pip install --upgrade pip\n"
     ]
    },
    {
     "name": "stdout",
     "output_type": "stream",
     "text": [
      "\n",
      "  Using cached wordcloud-1.9.3-cp311-cp311-win_amd64.whl (300 kB)\n",
      "Requirement already satisfied: numpy>=1.6.1 in c:\\users\\usuario\\desktop\\proyectos\\pf_google_yelp\\proy_final\\lib\\site-packages (from wordcloud) (1.26.3)\n",
      "Requirement already satisfied: pillow in c:\\users\\usuario\\desktop\\proyectos\\pf_google_yelp\\proy_final\\lib\\site-packages (from wordcloud) (10.2.0)\n",
      "Requirement already satisfied: matplotlib in c:\\users\\usuario\\desktop\\proyectos\\pf_google_yelp\\proy_final\\lib\\site-packages (from wordcloud) (3.8.2)\n",
      "Requirement already satisfied: contourpy>=1.0.1 in c:\\users\\usuario\\desktop\\proyectos\\pf_google_yelp\\proy_final\\lib\\site-packages (from matplotlib->wordcloud) (1.2.0)\n",
      "Requirement already satisfied: cycler>=0.10 in c:\\users\\usuario\\desktop\\proyectos\\pf_google_yelp\\proy_final\\lib\\site-packages (from matplotlib->wordcloud) (0.12.1)\n",
      "Requirement already satisfied: fonttools>=4.22.0 in c:\\users\\usuario\\desktop\\proyectos\\pf_google_yelp\\proy_final\\lib\\site-packages (from matplotlib->wordcloud) (4.47.2)\n",
      "Requirement already satisfied: kiwisolver>=1.3.1 in c:\\users\\usuario\\desktop\\proyectos\\pf_google_yelp\\proy_final\\lib\\site-packages (from matplotlib->wordcloud) (1.4.5)\n",
      "Requirement already satisfied: packaging>=20.0 in c:\\users\\usuario\\desktop\\proyectos\\pf_google_yelp\\proy_final\\lib\\site-packages (from matplotlib->wordcloud) (23.2)\n",
      "Requirement already satisfied: pyparsing>=2.3.1 in c:\\users\\usuario\\desktop\\proyectos\\pf_google_yelp\\proy_final\\lib\\site-packages (from matplotlib->wordcloud) (3.1.1)\n",
      "Requirement already satisfied: python-dateutil>=2.7 in c:\\users\\usuario\\desktop\\proyectos\\pf_google_yelp\\proy_final\\lib\\site-packages (from matplotlib->wordcloud) (2.8.2)\n",
      "Requirement already satisfied: six>=1.5 in c:\\users\\usuario\\desktop\\proyectos\\pf_google_yelp\\proy_final\\lib\\site-packages (from python-dateutil>=2.7->matplotlib->wordcloud) (1.16.0)\n",
      "Installing collected packages: wordcloud\n",
      "Successfully installed wordcloud-1.9.3\n"
     ]
    }
   ],
   "source": [
    "!pip install wordcloud"
   ]
  },
  {
   "cell_type": "markdown",
   "metadata": {},
   "source": [
    "Importo WorldCloud"
   ]
  },
  {
   "cell_type": "code",
   "execution_count": 8,
   "metadata": {},
   "outputs": [],
   "source": [
    "from wordcloud import WordCloud"
   ]
  },
  {
   "cell_type": "code",
   "execution_count": 9,
   "metadata": {},
   "outputs": [],
   "source": [
    "#Creo una variable text de la columna del dataframe para la visualización.\n",
    "\n",
    "reviews = df_data_limpio['text']"
   ]
  },
  {
   "cell_type": "code",
   "execution_count": 10,
   "metadata": {},
   "outputs": [],
   "source": [
    "#Uso WordCloud para la visualización de nube de palabras en una variable.\n",
    "wordcloud = WordCloud(background_color=\"white\", colormap='Dark2', max_font_size=150, random_state=42).generate(str(reviews))"
   ]
  },
  {
   "cell_type": "code",
   "execution_count": 11,
   "metadata": {},
   "outputs": [],
   "source": [
    "#importo matplotlib.pyplot para graficar.\n",
    "import matplotlib.pyplot as plt"
   ]
  },
  {
   "cell_type": "code",
   "execution_count": 12,
   "metadata": {},
   "outputs": [
    {
     "data": {
      "image/png": "[encoded data removed]",
      "text/plain": [
       "<Figure size 640x480 with 1 Axes>"
      ]
     },
     "metadata": {},
     "output_type": "display_data"
    }
   ],
   "source": [
    "plt.imshow(wordcloud,interpolation='bilinear')\n",
    "plt.title ('Palabras repetidas de Reseñas')\n",
    "plt.show()"
   ]
  },
  {
   "cell_type": "markdown",
   "metadata": {},
   "source": [
    "Se usa el paquete 'nltk' de Natural Language Toolkit que procesa el leguaje natural."
   ]
  },
  {
   "cell_type": "code",
   "execution_count": 15,
   "metadata": {},
   "outputs": [
    {
     "name": "stderr",
     "output_type": "stream",
     "text": [
      "[nltk_data] Downloading package vader_lexicon to\n",
      "[nltk_data]     C:\\Users\\Usuario\\AppData\\Roaming\\nltk_data...\n",
      "[nltk_data] Downloading package punkt to\n",
      "[nltk_data]     C:\\Users\\Usuario\\AppData\\Roaming\\nltk_data...\n",
      "[nltk_data]   Unzipping tokenizers\\punkt.zip.\n"
     ]
    },
    {
     "data": {
      "text/plain": [
       "True"
      ]
     },
     "execution_count": 15,
     "metadata": {},
     "output_type": "execute_result"
    }
   ],
   "source": [
    "import nltk\n",
    "from nltk.sentiment.vader import SentimentIntensityAnalyzer\n",
    "from nltk import sentiment\n",
    "from nltk import word_tokenize\n",
    "nltk.download('vader_lexicon') # Descarga vader_lexicon para el análisis de sentimientos.\n",
    "nltk.download('punkt') # Descarga punkt, un modelo de toquenización que divide el texto en palabras individuales"
   ]
  },
  {
   "cell_type": "code",
   "execution_count": 16,
   "metadata": {},
   "outputs": [],
   "source": [
    "#Creo una variable para que inicie el analizador de sentimientos VADER.\n",
    "analizador = SentimentIntensityAnalyzer()"
   ]
  },
  {
   "cell_type": "code",
   "execution_count": 17,
   "metadata": {},
   "outputs": [],
   "source": [
    "#Creo una función para obtener el puntaje del sentimiento entre los valores (1 y -1), donde 1 es positivo y -1 es negativo.\n",
    "def Puntaje_Sentimiento(text):\n",
    "    tokens = word_tokenize(text)  # Tokenizar el texto\n",
    "    scores = analizador.polarity_scores(text)  # Obtener los puntajes de sentimiento\n",
    "    return scores['compound']  # Retornar el puntaje compuesto"
   ]
  },
  {
   "cell_type": "code",
   "execution_count": 19,
   "metadata": {},
   "outputs": [],
   "source": [
    "#Se aplica la función 'Puntaje_Sentimiento' en el dataframe.\n",
    "df_data_limpio['score_sentimientos'] = df_data_limpio['text'].apply(Puntaje_Sentimiento)"
   ]
  },
  {
   "cell_type": "code",
   "execution_count": 20,
   "metadata": {},
   "outputs": [
    {
     "data": {
      "text/html": [
       "<div>\n",
       "<style scoped>\n",
       "    .dataframe tbody tr th:only-of-type {\n",
       "        vertical-align: middle;\n",
       "    }\n",
       "\n",
       "    .dataframe tbody tr th {\n",
       "        vertical-align: top;\n",
       "    }\n",
       "\n",
       "    .dataframe thead th {\n",
       "        text-align: right;\n",
       "    }\n",
       "</style>\n",
       "<table border=\"1\" class=\"dataframe\">\n",
       "  <thead>\n",
       "    <tr style=\"text-align: right;\">\n",
       "      <th></th>\n",
       "      <th>business_id</th>\n",
       "      <th>user_id</th>\n",
       "      <th>review_id</th>\n",
       "      <th>stars_x</th>\n",
       "      <th>stars_y</th>\n",
       "      <th>useful</th>\n",
       "      <th>funny</th>\n",
       "      <th>cool</th>\n",
       "      <th>text</th>\n",
       "      <th>date</th>\n",
       "      <th>score_sentimientos</th>\n",
       "    </tr>\n",
       "  </thead>\n",
       "  <tbody>\n",
       "    <tr>\n",
       "      <th>4181</th>\n",
       "      <td>SSZDGl2J-CEyIzuIbEiYNQ</td>\n",
       "      <td>xYgdYioZpHUxApiddFhCxg</td>\n",
       "      <td>yqSjIsFgLRumrcUVyXKBRQ</td>\n",
       "      <td>3.0</td>\n",
       "      <td>3.0</td>\n",
       "      <td>1</td>\n",
       "      <td>2</td>\n",
       "      <td>1</td>\n",
       "      <td>Stopped in for lunch at the suggestion of a co...</td>\n",
       "      <td>2013-10-12 02:31:32</td>\n",
       "      <td>0.9089</td>\n",
       "    </tr>\n",
       "    <tr>\n",
       "      <th>525066</th>\n",
       "      <td>e1P-sfC54cO7WoAYRXvBxA</td>\n",
       "      <td>Rue42Zud1Ieu1ORFs_xigg</td>\n",
       "      <td>ZyMn2Wa_EZr0fMmKDmgUmA</td>\n",
       "      <td>4.0</td>\n",
       "      <td>5.0</td>\n",
       "      <td>4</td>\n",
       "      <td>0</td>\n",
       "      <td>0</td>\n",
       "      <td>After a year of trying to get there for brunch...</td>\n",
       "      <td>2018-02-25 20:35:24</td>\n",
       "      <td>0.9689</td>\n",
       "    </tr>\n",
       "    <tr>\n",
       "      <th>269126</th>\n",
       "      <td>6SYG6M05gIwaj3doas6X9Q</td>\n",
       "      <td>ZsURx8o6zvqS7A9iNBOB9g</td>\n",
       "      <td>ysZa6LFrrYC2665QSn-hbg</td>\n",
       "      <td>4.0</td>\n",
       "      <td>5.0</td>\n",
       "      <td>0</td>\n",
       "      <td>0</td>\n",
       "      <td>0</td>\n",
       "      <td>This is my favorite place in town to get a bob...</td>\n",
       "      <td>2020-05-12 17:50:45</td>\n",
       "      <td>0.9601</td>\n",
       "    </tr>\n",
       "    <tr>\n",
       "      <th>667227</th>\n",
       "      <td>pT9Zvlj2OnprVu6RoPys9g</td>\n",
       "      <td>jn0IlshjEmN3R8vPJOo8uw</td>\n",
       "      <td>FKR4t7FKRZXquhSXtKJsAw</td>\n",
       "      <td>4.5</td>\n",
       "      <td>5.0</td>\n",
       "      <td>1</td>\n",
       "      <td>0</td>\n",
       "      <td>0</td>\n",
       "      <td>First time at the ( very close to my house) ne...</td>\n",
       "      <td>2021-10-07 23:09:31</td>\n",
       "      <td>0.9732</td>\n",
       "    </tr>\n",
       "    <tr>\n",
       "      <th>720683</th>\n",
       "      <td>JO76ifyAiBiRPNx_3S0jNQ</td>\n",
       "      <td>MgrXidHmT4ckz5n7iSTorQ</td>\n",
       "      <td>q84Rwgi7VJbhj_y7OHRViA</td>\n",
       "      <td>3.0</td>\n",
       "      <td>2.0</td>\n",
       "      <td>0</td>\n",
       "      <td>1</td>\n",
       "      <td>0</td>\n",
       "      <td>Husband and friend went here while we shopped ...</td>\n",
       "      <td>2016-05-09 16:48:04</td>\n",
       "      <td>0.7574</td>\n",
       "    </tr>\n",
       "  </tbody>\n",
       "</table>\n",
       "</div>"
      ],
      "text/plain": [
       "                   business_id                 user_id  \\\n",
       "4181    SSZDGl2J-CEyIzuIbEiYNQ  xYgdYioZpHUxApiddFhCxg   \n",
       "525066  e1P-sfC54cO7WoAYRXvBxA  Rue42Zud1Ieu1ORFs_xigg   \n",
       "269126  6SYG6M05gIwaj3doas6X9Q  ZsURx8o6zvqS7A9iNBOB9g   \n",
       "667227  pT9Zvlj2OnprVu6RoPys9g  jn0IlshjEmN3R8vPJOo8uw   \n",
       "720683  JO76ifyAiBiRPNx_3S0jNQ  MgrXidHmT4ckz5n7iSTorQ   \n",
       "\n",
       "                     review_id  stars_x  stars_y  useful  funny  cool  \\\n",
       "4181    yqSjIsFgLRumrcUVyXKBRQ      3.0      3.0       1      2     1   \n",
       "525066  ZyMn2Wa_EZr0fMmKDmgUmA      4.0      5.0       4      0     0   \n",
       "269126  ysZa6LFrrYC2665QSn-hbg      4.0      5.0       0      0     0   \n",
       "667227  FKR4t7FKRZXquhSXtKJsAw      4.5      5.0       1      0     0   \n",
       "720683  q84Rwgi7VJbhj_y7OHRViA      3.0      2.0       0      1     0   \n",
       "\n",
       "                                                     text  \\\n",
       "4181    Stopped in for lunch at the suggestion of a co...   \n",
       "525066  After a year of trying to get there for brunch...   \n",
       "269126  This is my favorite place in town to get a bob...   \n",
       "667227  First time at the ( very close to my house) ne...   \n",
       "720683  Husband and friend went here while we shopped ...   \n",
       "\n",
       "                       date  score_sentimientos  \n",
       "4181    2013-10-12 02:31:32              0.9089  \n",
       "525066  2018-02-25 20:35:24              0.9689  \n",
       "269126  2020-05-12 17:50:45              0.9601  \n",
       "667227  2021-10-07 23:09:31              0.9732  \n",
       "720683  2016-05-09 16:48:04              0.7574  "
      ]
     },
     "execution_count": 20,
     "metadata": {},
     "output_type": "execute_result"
    }
   ],
   "source": [
    "#verifico\n",
    "df_data_limpio.sample(5)"
   ]
  },
  {
   "cell_type": "markdown",
   "metadata": {},
   "source": [
    "#### Metricas y estadisticas"
   ]
  },
  {
   "cell_type": "code",
   "execution_count": 22,
   "metadata": {},
   "outputs": [
    {
     "data": {
      "text/plain": [
       "(824900, 11)"
      ]
     },
     "execution_count": 22,
     "metadata": {},
     "output_type": "execute_result"
    }
   ],
   "source": [
    "#Tamaño de dataset\n",
    "df_data_limpio.shape"
   ]
  },
  {
   "cell_type": "code",
   "execution_count": 21,
   "metadata": {},
   "outputs": [
    {
     "data": {
      "text/html": [
       "<div>\n",
       "<style scoped>\n",
       "    .dataframe tbody tr th:only-of-type {\n",
       "        vertical-align: middle;\n",
       "    }\n",
       "\n",
       "    .dataframe tbody tr th {\n",
       "        vertical-align: top;\n",
       "    }\n",
       "\n",
       "    .dataframe thead th {\n",
       "        text-align: right;\n",
       "    }\n",
       "</style>\n",
       "<table border=\"1\" class=\"dataframe\">\n",
       "  <thead>\n",
       "    <tr style=\"text-align: right;\">\n",
       "      <th></th>\n",
       "      <th>stars_x</th>\n",
       "      <th>stars_y</th>\n",
       "      <th>useful</th>\n",
       "      <th>funny</th>\n",
       "      <th>cool</th>\n",
       "      <th>score_sentimientos</th>\n",
       "    </tr>\n",
       "  </thead>\n",
       "  <tbody>\n",
       "    <tr>\n",
       "      <th>count</th>\n",
       "      <td>824900.000000</td>\n",
       "      <td>824900.000000</td>\n",
       "      <td>824900.000000</td>\n",
       "      <td>824900.000000</td>\n",
       "      <td>824900.000000</td>\n",
       "      <td>824900.000000</td>\n",
       "    </tr>\n",
       "    <tr>\n",
       "      <th>mean</th>\n",
       "      <td>3.789865</td>\n",
       "      <td>3.788927</td>\n",
       "      <td>1.003980</td>\n",
       "      <td>0.310267</td>\n",
       "      <td>0.493522</td>\n",
       "      <td>0.674290</td>\n",
       "    </tr>\n",
       "    <tr>\n",
       "      <th>std</th>\n",
       "      <td>0.615875</td>\n",
       "      <td>1.388670</td>\n",
       "      <td>3.503151</td>\n",
       "      <td>2.113664</td>\n",
       "      <td>2.993228</td>\n",
       "      <td>0.527606</td>\n",
       "    </tr>\n",
       "    <tr>\n",
       "      <th>min</th>\n",
       "      <td>1.000000</td>\n",
       "      <td>1.000000</td>\n",
       "      <td>0.000000</td>\n",
       "      <td>0.000000</td>\n",
       "      <td>0.000000</td>\n",
       "      <td>-0.999300</td>\n",
       "    </tr>\n",
       "    <tr>\n",
       "      <th>25%</th>\n",
       "      <td>3.500000</td>\n",
       "      <td>3.000000</td>\n",
       "      <td>0.000000</td>\n",
       "      <td>0.000000</td>\n",
       "      <td>0.000000</td>\n",
       "      <td>0.701675</td>\n",
       "    </tr>\n",
       "    <tr>\n",
       "      <th>50%</th>\n",
       "      <td>4.000000</td>\n",
       "      <td>4.000000</td>\n",
       "      <td>0.000000</td>\n",
       "      <td>0.000000</td>\n",
       "      <td>0.000000</td>\n",
       "      <td>0.921500</td>\n",
       "    </tr>\n",
       "    <tr>\n",
       "      <th>75%</th>\n",
       "      <td>4.000000</td>\n",
       "      <td>5.000000</td>\n",
       "      <td>1.000000</td>\n",
       "      <td>0.000000</td>\n",
       "      <td>0.000000</td>\n",
       "      <td>0.971500</td>\n",
       "    </tr>\n",
       "    <tr>\n",
       "      <th>max</th>\n",
       "      <td>5.000000</td>\n",
       "      <td>5.000000</td>\n",
       "      <td>404.000000</td>\n",
       "      <td>361.000000</td>\n",
       "      <td>404.000000</td>\n",
       "      <td>0.999900</td>\n",
       "    </tr>\n",
       "  </tbody>\n",
       "</table>\n",
       "</div>"
      ],
      "text/plain": [
       "             stars_x        stars_y         useful          funny  \\\n",
       "count  824900.000000  824900.000000  824900.000000  824900.000000   \n",
       "mean        3.789865       3.788927       1.003980       0.310267   \n",
       "std         0.615875       1.388670       3.503151       2.113664   \n",
       "min         1.000000       1.000000       0.000000       0.000000   \n",
       "25%         3.500000       3.000000       0.000000       0.000000   \n",
       "50%         4.000000       4.000000       0.000000       0.000000   \n",
       "75%         4.000000       5.000000       1.000000       0.000000   \n",
       "max         5.000000       5.000000     404.000000     361.000000   \n",
       "\n",
       "                cool  score_sentimientos  \n",
       "count  824900.000000       824900.000000  \n",
       "mean        0.493522            0.674290  \n",
       "std         2.993228            0.527606  \n",
       "min         0.000000           -0.999300  \n",
       "25%         0.000000            0.701675  \n",
       "50%         0.000000            0.921500  \n",
       "75%         0.000000            0.971500  \n",
       "max       404.000000            0.999900  "
      ]
     },
     "execution_count": 21,
     "metadata": {},
     "output_type": "execute_result"
    }
   ],
   "source": [
    "#Metricas de los valores cuantitativos "
   ]
  },
  {
   "cell_type": "code",
   "execution_count": 23,
   "metadata": {},
   "outputs": [
    {
     "name": "stdout",
     "output_type": "stream",
     "text": [
      "Requirement already satisfied: seaborn in c:\\users\\usuario\\desktop\\proyectos\\pf_google_yelp\\proy_final\\lib\\site-packages (0.13.2)\n",
      "Requirement already satisfied: numpy!=1.24.0,>=1.20 in c:\\users\\usuario\\desktop\\proyectos\\pf_google_yelp\\proy_final\\lib\\site-packages (from seaborn) (1.26.3)\n",
      "Requirement already satisfied: pandas>=1.2 in c:\\users\\usuario\\desktop\\proyectos\\pf_google_yelp\\proy_final\\lib\\site-packages (from seaborn) (2.2.0)\n",
      "Requirement already satisfied: matplotlib!=3.6.1,>=3.4 in c:\\users\\usuario\\desktop\\proyectos\\pf_google_yelp\\proy_final\\lib\\site-packages (from seaborn) (3.8.2)\n",
      "Requirement already satisfied: contourpy>=1.0.1 in c:\\users\\usuario\\desktop\\proyectos\\pf_google_yelp\\proy_final\\lib\\site-packages (from matplotlib!=3.6.1,>=3.4->seaborn) (1.2.0)\n",
      "Requirement already satisfied: cycler>=0.10 in c:\\users\\usuario\\desktop\\proyectos\\pf_google_yelp\\proy_final\\lib\\site-packages (from matplotlib!=3.6.1,>=3.4->seaborn) (0.12.1)\n",
      "Requirement already satisfied: fonttools>=4.22.0 in c:\\users\\usuario\\desktop\\proyectos\\pf_google_yelp\\proy_final\\lib\\site-packages (from matplotlib!=3.6.1,>=3.4->seaborn) (4.47.2)\n",
      "Requirement already satisfied: kiwisolver>=1.3.1 in c:\\users\\usuario\\desktop\\proyectos\\pf_google_yelp\\proy_final\\lib\\site-packages (from matplotlib!=3.6.1,>=3.4->seaborn) (1.4.5)\n",
      "Requirement already satisfied: packaging>=20.0 in c:\\users\\usuario\\desktop\\proyectos\\pf_google_yelp\\proy_final\\lib\\site-packages (from matplotlib!=3.6.1,>=3.4->seaborn) (23.2)\n",
      "Requirement already satisfied: pillow>=8 in c:\\users\\usuario\\desktop\\proyectos\\pf_google_yelp\\proy_final\\lib\\site-packages (from matplotlib!=3.6.1,>=3.4->seaborn) (10.2.0)\n",
      "Requirement already satisfied: pyparsing>=2.3.1 in c:\\users\\usuario\\desktop\\proyectos\\pf_google_yelp\\proy_final\\lib\\site-packages (from matplotlib!=3.6.1,>=3.4->seaborn) (3.1.1)\n",
      "Requirement already satisfied: python-dateutil>=2.7 in c:\\users\\usuario\\desktop\\proyectos\\pf_google_yelp\\proy_final\\lib\\site-packages (from matplotlib!=3.6.1,>=3.4->seaborn) (2.8.2)\n",
      "Requirement already satisfied: pytz>=2020.1 in c:\\users\\usuario\\desktop\\proyectos\\pf_google_yelp\\proy_final\\lib\\site-packages (from pandas>=1.2->seaborn) (2024.1)\n",
      "Requirement already satisfied: tzdata>=2022.7 in c:\\users\\usuario\\desktop\\proyectos\\pf_google_yelp\\proy_final\\lib\\site-packages (from pandas>=1.2->seaborn) (2023.4)\n",
      "Requirement already satisfied: six>=1.5 in c:\\users\\usuario\\desktop\\proyectos\\pf_google_yelp\\proy_final\\lib\\site-packages (from python-dateutil>=2.7->matplotlib!=3.6.1,>=3.4->seaborn) (1.16.0)\n"
     ]
    },
    {
     "name": "stderr",
     "output_type": "stream",
     "text": [
      "\n",
      "[notice] A new release of pip is available: 23.1.2 -> 24.0\n",
      "[notice] To update, run: python.exe -m pip install --upgrade pip\n"
     ]
    }
   ],
   "source": [
    "!pip install seaborn"
   ]
  },
  {
   "cell_type": "code",
   "execution_count": 24,
   "metadata": {},
   "outputs": [],
   "source": [
    "#Importo\n",
    "import seaborn as sns\n",
    "import matplotlib.pyplot as plt"
   ]
  },
  {
   "cell_type": "markdown",
   "metadata": {},
   "source": [
    "Utilizo pairplot de seaborn para observar la correlación en forma de distribución normal entre los datos cuantitativos."
   ]
  },
  {
   "cell_type": "code",
   "execution_count": 25,
   "metadata": {},
   "outputs": [
    {
     "name": "stderr",
     "output_type": "stream",
     "text": [
      "c:\\Users\\Usuario\\Desktop\\Proyectos\\PF_Google_Yelp\\proy_final\\Lib\\site-packages\\seaborn\\axisgrid.py:2100: UserWarning: The `size` parameter has been renamed to `height`; please update your code.\n",
      "  warnings.warn(msg, UserWarning)\n"
     ]
    },
    {
     "data": {
      "text/plain": [
       "<seaborn.axisgrid.PairGrid at 0x2740af7b890>"
      ]
     },
     "execution_count": 25,
     "metadata": {},
     "output_type": "execute_result"
    },
    {
     "data": {
      "image/png": "[encoded data removed]",
      "text/plain": [
       "<Figure size 400x400 with 6 Axes>"
      ]
     },
     "metadata": {},
     "output_type": "display_data"
    }
   ],
   "source": [
    "# Seleccionar las columnas deseadas en una lista\n",
    "columns = ['score_sentimientos','stars_y']\n",
    "# Obtener el DataFrame con las columnas seleccionadas\n",
    "selected_df = df_data_limpio[columns]\n",
    "\n",
    "# Calcular la matriz de correlación\n",
    "correlation_data = selected_df.corr()\n",
    "\n",
    "# Crear el pairplot\n",
    "sns.pairplot(correlation_data, diag_kind='kde', size=2)"
   ]
  },
  {
   "cell_type": "markdown",
   "metadata": {},
   "source": [
    "Utilizo heatmap de seaborn para observar la correlación en forma de mapa de calor con datos numéricos entre los datos cuantitativos."
   ]
  },
  {
   "cell_type": "code",
   "execution_count": 26,
   "metadata": {},
   "outputs": [
    {
     "data": {
      "image/png": "[encoded data removed]",
      "text/plain": [
       "<Figure size 500x500 with 2 Axes>"
      ]
     },
     "metadata": {},
     "output_type": "display_data"
    }
   ],
   "source": [
    "# Se crea una figura con tamaño 5x5\n",
    "plt.figure(figsize=(5,5))\n",
    "\n",
    "# Se genera el mapa de calor con las correlaciones\n",
    "sns.heatmap(selected_df.corr(), annot=True, square=True, cmap='coolwarm')\n",
    "\n",
    "# Se genera la visualización del mapa de calor\n",
    "plt.show()"
   ]
  },
  {
   "cell_type": "markdown",
   "metadata": {},
   "source": [
    "Ingreso los valores negativos -1, neutros 0 y positivos en 1"
   ]
  },
  {
   "cell_type": "code",
   "execution_count": 27,
   "metadata": {},
   "outputs": [],
   "source": [
    "# Se agrega una columna para la categorización.\n",
    "df_data_limpio['categorizacion'] = df_data_limpio['score_sentimientos'].apply(lambda x: 1 if x > 0 else -1)"
   ]
  },
  {
   "cell_type": "code",
   "execution_count": 32,
   "metadata": {},
   "outputs": [
    {
     "data": {
      "text/html": [
       "<div>\n",
       "<style scoped>\n",
       "    .dataframe tbody tr th:only-of-type {\n",
       "        vertical-align: middle;\n",
       "    }\n",
       "\n",
       "    .dataframe tbody tr th {\n",
       "        vertical-align: top;\n",
       "    }\n",
       "\n",
       "    .dataframe thead th {\n",
       "        text-align: right;\n",
       "    }\n",
       "</style>\n",
       "<table border=\"1\" class=\"dataframe\">\n",
       "  <thead>\n",
       "    <tr style=\"text-align: right;\">\n",
       "      <th></th>\n",
       "      <th>business_id</th>\n",
       "      <th>user_id</th>\n",
       "      <th>review_id</th>\n",
       "      <th>stars_x</th>\n",
       "      <th>stars_y</th>\n",
       "      <th>useful</th>\n",
       "      <th>funny</th>\n",
       "      <th>cool</th>\n",
       "      <th>text</th>\n",
       "      <th>date</th>\n",
       "      <th>score_sentimientos</th>\n",
       "      <th>categorizacion</th>\n",
       "    </tr>\n",
       "  </thead>\n",
       "  <tbody>\n",
       "    <tr>\n",
       "      <th>423143</th>\n",
       "      <td>oskXqC-K0AFLtgbTA4D3gQ</td>\n",
       "      <td>-pmlSr4Hetesw4sSxu5H7g</td>\n",
       "      <td>-PWQGpwAfdyvOzqUx4UWFw</td>\n",
       "      <td>4.0</td>\n",
       "      <td>5.0</td>\n",
       "      <td>0</td>\n",
       "      <td>0</td>\n",
       "      <td>0</td>\n",
       "      <td>Best drunken noodles I have ever had and great...</td>\n",
       "      <td>2018-08-30 09:41:46</td>\n",
       "      <td>0.9336</td>\n",
       "      <td>1</td>\n",
       "    </tr>\n",
       "    <tr>\n",
       "      <th>686809</th>\n",
       "      <td>HHw5qSiNj8cwdy5cGAqMzQ</td>\n",
       "      <td>-Lzb8L4gQ67lcXMRg5PRGw</td>\n",
       "      <td>gq0X-KSqLHzlHTEw1XdQ9g</td>\n",
       "      <td>3.0</td>\n",
       "      <td>1.0</td>\n",
       "      <td>1</td>\n",
       "      <td>0</td>\n",
       "      <td>0</td>\n",
       "      <td>2nd time here under new name and to try their ...</td>\n",
       "      <td>2018-06-28 18:17:32</td>\n",
       "      <td>-0.7556</td>\n",
       "      <td>-1</td>\n",
       "    </tr>\n",
       "    <tr>\n",
       "      <th>56131</th>\n",
       "      <td>RK93mcFftFbN2UN7JXBp6Q</td>\n",
       "      <td>ZgjHJPi76jZ8RPhpzWuOPw</td>\n",
       "      <td>fiAZfIrNmTmP2wUSTCfBFw</td>\n",
       "      <td>2.5</td>\n",
       "      <td>1.0</td>\n",
       "      <td>0</td>\n",
       "      <td>0</td>\n",
       "      <td>0</td>\n",
       "      <td>Walked in there were about 10 people at the ba...</td>\n",
       "      <td>2018-03-14 03:17:46</td>\n",
       "      <td>-0.9582</td>\n",
       "      <td>-1</td>\n",
       "    </tr>\n",
       "    <tr>\n",
       "      <th>606801</th>\n",
       "      <td>ac1AeYqs8Z4_e2X5M3if2A</td>\n",
       "      <td>L71P0y07gvvR9AlljOWFVQ</td>\n",
       "      <td>eLbpzBWorb52Y9YN5tZ04g</td>\n",
       "      <td>4.0</td>\n",
       "      <td>5.0</td>\n",
       "      <td>0</td>\n",
       "      <td>0</td>\n",
       "      <td>0</td>\n",
       "      <td>The BEST meal I've ever had! I had grilled oys...</td>\n",
       "      <td>2014-07-30 15:22:28</td>\n",
       "      <td>0.9672</td>\n",
       "      <td>1</td>\n",
       "    </tr>\n",
       "    <tr>\n",
       "      <th>787206</th>\n",
       "      <td>zS_iBFOBbZSNC1edaijD3A</td>\n",
       "      <td>p6sURh18VJ3E4xrp-I5R1Q</td>\n",
       "      <td>J47CM38BosoHifrvf9XFmw</td>\n",
       "      <td>3.5</td>\n",
       "      <td>5.0</td>\n",
       "      <td>2</td>\n",
       "      <td>0</td>\n",
       "      <td>1</td>\n",
       "      <td>The rice, beef, lettuce, and tomatoes are alwa...</td>\n",
       "      <td>2018-08-01 21:38:43</td>\n",
       "      <td>0.5859</td>\n",
       "      <td>1</td>\n",
       "    </tr>\n",
       "  </tbody>\n",
       "</table>\n",
       "</div>"
      ],
      "text/plain": [
       "                   business_id                 user_id  \\\n",
       "423143  oskXqC-K0AFLtgbTA4D3gQ  -pmlSr4Hetesw4sSxu5H7g   \n",
       "686809  HHw5qSiNj8cwdy5cGAqMzQ  -Lzb8L4gQ67lcXMRg5PRGw   \n",
       "56131   RK93mcFftFbN2UN7JXBp6Q  ZgjHJPi76jZ8RPhpzWuOPw   \n",
       "606801  ac1AeYqs8Z4_e2X5M3if2A  L71P0y07gvvR9AlljOWFVQ   \n",
       "787206  zS_iBFOBbZSNC1edaijD3A  p6sURh18VJ3E4xrp-I5R1Q   \n",
       "\n",
       "                     review_id  stars_x  stars_y  useful  funny  cool  \\\n",
       "423143  -PWQGpwAfdyvOzqUx4UWFw      4.0      5.0       0      0     0   \n",
       "686809  gq0X-KSqLHzlHTEw1XdQ9g      3.0      1.0       1      0     0   \n",
       "56131   fiAZfIrNmTmP2wUSTCfBFw      2.5      1.0       0      0     0   \n",
       "606801  eLbpzBWorb52Y9YN5tZ04g      4.0      5.0       0      0     0   \n",
       "787206  J47CM38BosoHifrvf9XFmw      3.5      5.0       2      0     1   \n",
       "\n",
       "                                                     text  \\\n",
       "423143  Best drunken noodles I have ever had and great...   \n",
       "686809  2nd time here under new name and to try their ...   \n",
       "56131   Walked in there were about 10 people at the ba...   \n",
       "606801  The BEST meal I've ever had! I had grilled oys...   \n",
       "787206  The rice, beef, lettuce, and tomatoes are alwa...   \n",
       "\n",
       "                       date  score_sentimientos  categorizacion  \n",
       "423143  2018-08-30 09:41:46              0.9336               1  \n",
       "686809  2018-06-28 18:17:32             -0.7556              -1  \n",
       "56131   2018-03-14 03:17:46             -0.9582              -1  \n",
       "606801  2014-07-30 15:22:28              0.9672               1  \n",
       "787206  2018-08-01 21:38:43              0.5859               1  "
      ]
     },
     "execution_count": 32,
     "metadata": {},
     "output_type": "execute_result"
    }
   ],
   "source": [
    "df_data_limpio.sample(5)\n"
   ]
  },
  {
   "cell_type": "markdown",
   "metadata": {},
   "source": [
    "Revisamos si se clasificó debidamente el texto"
   ]
  },
  {
   "cell_type": "code",
   "execution_count": 33,
   "metadata": {},
   "outputs": [
    {
     "data": {
      "text/plain": [
       "\"Excellent experience for a very late lunch.\\nGreat server Justin, special rolls spot on and the tuna sundae super. We are old timers at Bluefin in Norristown, quality seems as good. If you don't mind paying top dollar for top food and service, this is a great choice.\""
      ]
     },
     "execution_count": 33,
     "metadata": {},
     "output_type": "execute_result"
    }
   ],
   "source": [
    "df_data_limpio['text'][1000]"
   ]
  },
  {
   "cell_type": "code",
   "execution_count": 34,
   "metadata": {},
   "outputs": [
    {
     "data": {
      "text/plain": [
       "categorizacion\n",
       " 1    715227\n",
       "-1    109673\n",
       "Name: count, dtype: int64"
      ]
     },
     "execution_count": 34,
     "metadata": {},
     "output_type": "execute_result"
    }
   ],
   "source": [
    "#Contador de cantidad de textos clasificados con los valores únicos\n",
    "df_data_limpio['categorizacion'].value_counts()\n"
   ]
  },
  {
   "cell_type": "markdown",
   "metadata": {},
   "source": [
    "Observamos en un histograma la dispersión de los valores"
   ]
  },
  {
   "cell_type": "code",
   "execution_count": 36,
   "metadata": {},
   "outputs": [
    {
     "data": {
      "image/png": "[encoded data removed]",
      "text/plain": [
       "<Figure size 1000x1000 with 1 Axes>"
      ]
     },
     "metadata": {},
     "output_type": "display_data"
    }
   ],
   "source": [
    "# Se define el número de contenedores en los histogramas\n",
    "bins = 15\n",
    "\n",
    "# Se crea una figura con tamaño 10x10\n",
    "plt.figure(figsize=(10, 10))\n",
    "\n",
    "#Se crea un subgráfico para que se observen los histogramas\n",
    "plt.subplot(3, 3, 1)\n",
    "\n",
    "# Se utiliza hisplot de seaborn para graficar los histogramas por variable\n",
    "sns.histplot(df_data_limpio[df_data_limpio['categorizacion'] == 0]['score_sentimientos'], bins=bins, color='yellow', label='0', kde=True)\n",
    "\n",
    "# Se utiliza kdeplot de seaborn para trazar la distribución normal por variable\n",
    "sns.kdeplot(df_data_limpio[df_data_limpio['categorizacion'] == 0]['score_sentimientos'], color='darkyellow', linestyle='--')\n",
    "\n",
    "sns.histplot(df_data_limpio[df_data_limpio['categorizacion'] == 1]['score_sentimientos'], bins=bins, color='green', label='1', kde=True)\n",
    "sns.kdeplot(df_data_limpio[df_data_limpio['categorizacion'] == 1]['score_sentimientos'], color='darkgreen', linestyle='--')\n",
    "\n",
    "sns.histplot(df_data_limpio[df_data_limpio['categorizacion'] == -1]['score_sentimientos'], bins=bins, color='red', label='-1', kde=True)\n",
    "sns.kdeplot(df_data_limpio[df_data_limpio['categorizacion'] == -1]['score_sentimientos'], color='darkred', linestyle='--')\n",
    "# Muestra la leyenda\n",
    "plt.legend(loc='upper right')\n",
    "\n",
    "# Ajusta los subgrpaficos y los espacios para un mejor diseño\n",
    "plt.tight_layout()\n",
    "\n",
    "# Muestra el gráfico generado\n",
    "plt.show()"
   ]
  },
  {
   "cell_type": "markdown",
   "metadata": {},
   "source": [
    "Guardo archivo"
   ]
  },
  {
   "cell_type": "code",
   "execution_count": 37,
   "metadata": {},
   "outputs": [],
   "source": [
    "df_data_limpio.to_csv('../data/df_modelo.csv', index=False)"
   ]
  },
  {
   "cell_type": "markdown",
   "metadata": {},
   "source": [
    "### Modelo de Regresion Logistica\n"
   ]
  },
  {
   "cell_type": "code",
   "execution_count": 38,
   "metadata": {},
   "outputs": [],
   "source": [
    "#Variables X e Y\n",
    "X = df_data_limpio.score_sentimientos\n",
    "# Y será la variable categorizacion que contiene:\n",
    "# 1= buen comentario -- = -1mal comentario\n",
    "y = df_data_limpio.categorizacion"
   ]
  },
  {
   "cell_type": "code",
   "execution_count": 39,
   "metadata": {},
   "outputs": [
    {
     "name": "stdout",
     "output_type": "stream",
     "text": [
      "Collecting scikit-learn\n",
      "  Downloading scikit_learn-1.4.1.post1-cp311-cp311-win_amd64.whl (10.6 MB)\n",
      "                                              0.0/10.6 MB ? eta -:--:--\n",
      "                                              0.2/10.6 MB 5.0 MB/s eta 0:00:03\n",
      "     --                                       0.8/10.6 MB 8.0 MB/s eta 0:00:02\n",
      "     ------                                   1.6/10.6 MB 12.8 MB/s eta 0:00:01\n",
      "     ------------                             3.3/10.6 MB 17.4 MB/s eta 0:00:01\n",
      "     ------------------                       5.0/10.6 MB 21.4 MB/s eta 0:00:01\n",
      "     ------------------------                 6.4/10.6 MB 24.2 MB/s eta 0:00:01\n",
      "     -------------------------------          8.3/10.6 MB 26.7 MB/s eta 0:00:01\n",
      "     -------------------------------------    9.9/10.6 MB 28.7 MB/s eta 0:00:01\n",
      "     --------------------------------------  10.6/10.6 MB 32.7 MB/s eta 0:00:01\n",
      "     --------------------------------------- 10.6/10.6 MB 29.7 MB/s eta 0:00:00\n",
      "Requirement already satisfied: numpy<2.0,>=1.19.5 in c:\\users\\usuario\\desktop\\proyectos\\pf_google_yelp\\proy_final\\lib\\site-packages (from scikit-learn) (1.26.3)\n",
      "Collecting scipy>=1.6.0 (from scikit-learn)\n",
      "  Downloading scipy-1.12.0-cp311-cp311-win_amd64.whl (46.2 MB)\n",
      "                                              0.0/46.2 MB ? eta -:--:--\n",
      "     -                                        1.4/46.2 MB 46.2 MB/s eta 0:00:01\n",
      "     --                                       3.4/46.2 MB 44.0 MB/s eta 0:00:01\n",
      "     ----                                     4.9/46.2 MB 39.2 MB/s eta 0:00:02\n",
      "     -----                                    6.8/46.2 MB 39.5 MB/s eta 0:00:01\n",
      "     -------                                  8.7/46.2 MB 39.8 MB/s eta 0:00:01\n",
      "     --------                                10.2/46.2 MB 38.3 MB/s eta 0:00:01\n",
      "     ---------                               11.4/46.2 MB 38.5 MB/s eta 0:00:01\n",
      "     -----------                             13.3/46.2 MB 38.5 MB/s eta 0:00:01\n",
      "     ------------                            14.4/46.2 MB 34.4 MB/s eta 0:00:01\n",
      "     -------------                           16.0/46.2 MB 34.4 MB/s eta 0:00:01\n",
      "     ---------------                         17.9/46.2 MB 36.4 MB/s eta 0:00:01\n",
      "     ----------------                        19.8/46.2 MB 36.4 MB/s eta 0:00:01\n",
      "     -----------------                       21.2/46.2 MB 34.4 MB/s eta 0:00:01\n",
      "     -------------------                     22.7/46.2 MB 36.4 MB/s eta 0:00:01\n",
      "     --------------------                    24.1/46.2 MB 38.6 MB/s eta 0:00:01\n",
      "     ----------------------                  26.1/46.2 MB 38.6 MB/s eta 0:00:01\n",
      "     -----------------------                 28.1/46.2 MB 38.5 MB/s eta 0:00:01\n",
      "     -------------------------               29.7/46.2 MB 40.9 MB/s eta 0:00:01\n",
      "     --------------------------              31.6/46.2 MB 38.5 MB/s eta 0:00:01\n",
      "     ----------------------------            33.5/46.2 MB 40.9 MB/s eta 0:00:01\n",
      "     -----------------------------           35.1/46.2 MB 40.9 MB/s eta 0:00:01\n",
      "     -------------------------------         36.9/46.2 MB 40.9 MB/s eta 0:00:01\n",
      "     --------------------------------        38.7/46.2 MB 40.9 MB/s eta 0:00:01\n",
      "     ----------------------------------      40.7/46.2 MB 40.9 MB/s eta 0:00:01\n",
      "     -----------------------------------     42.2/46.2 MB 38.6 MB/s eta 0:00:01\n",
      "     -------------------------------------   44.0/46.2 MB 38.6 MB/s eta 0:00:01\n",
      "     --------------------------------------  46.0/46.2 MB 40.9 MB/s eta 0:00:01\n",
      "     --------------------------------------  46.2/46.2 MB 38.5 MB/s eta 0:00:01\n",
      "     --------------------------------------  46.2/46.2 MB 38.5 MB/s eta 0:00:01\n",
      "     --------------------------------------  46.2/46.2 MB 38.5 MB/s eta 0:00:01\n",
      "     --------------------------------------- 46.2/46.2 MB 26.1 MB/s eta 0:00:00\n",
      "Requirement already satisfied: joblib>=1.2.0 in c:\\users\\usuario\\desktop\\proyectos\\pf_google_yelp\\proy_final\\lib\\site-packages (from scikit-learn) (1.3.2)\n",
      "Collecting threadpoolctl>=2.0.0 (from scikit-learn)\n",
      "  Downloading threadpoolctl-3.3.0-py3-none-any.whl (17 kB)\n",
      "Installing collected packages: threadpoolctl, scipy, scikit-learn\n",
      "Successfully installed scikit-learn-1.4.1.post1 scipy-1.12.0 threadpoolctl-3.3.0\n"
     ]
    },
    {
     "name": "stderr",
     "output_type": "stream",
     "text": [
      "\n",
      "[notice] A new release of pip is available: 23.1.2 -> 24.0\n",
      "[notice] To update, run: python.exe -m pip install --upgrade pip\n"
     ]
    }
   ],
   "source": [
    "#Se instala la librería skitlearn para utilizar las regresiones\n",
    "!pip install scikit-learn"
   ]
  },
  {
   "cell_type": "markdown",
   "metadata": {},
   "source": [
    "Implementación de la regresión logística desde sklearn\n"
   ]
  },
  {
   "cell_type": "code",
   "execution_count": 40,
   "metadata": {},
   "outputs": [],
   "source": [
    "## Implementamos la regresión logística\n",
    "from sklearn.model_selection import train_test_split"
   ]
  },
  {
   "cell_type": "code",
   "execution_count": 41,
   "metadata": {},
   "outputs": [],
   "source": [
    "#Se separan los datos en \"train\" datos entrenados y \"test\" datos de prueba\n",
    "# Se usará el 20% de estos datos para la prueba\n",
    "X_train,X_test,y_train,y_test=train_test_split(X,y,test_size=0.2)"
   ]
  },
  {
   "cell_type": "code",
   "execution_count": 42,
   "metadata": {},
   "outputs": [],
   "source": [
    "#Se escalan los datos para que todos tengan la misma medida o magnitud.\n",
    "from sklearn.preprocessing import StandardScaler\n",
    "\n",
    "escalar = StandardScaler()\n",
    "X_train = X_train.values.reshape(-1, 1)\n",
    "X_test = X_test.values.reshape(-1, 1)\n",
    "X_train = escalar.fit_transform(X_train)\n",
    "X_test = escalar.transform(X_test)"
   ]
  },
  {
   "cell_type": "code",
   "execution_count": 43,
   "metadata": {},
   "outputs": [
    {
     "data": {
      "text/html": [
       "<style>#sk-container-id-1 {\n",
       "  /* Definition of color scheme common for light and dark mode */\n",
       "  --sklearn-color-text: black;\n",
       "  --sklearn-color-line: gray;\n",
       "  /* Definition of color scheme for unfitted estimators */\n",
       "  --sklearn-color-unfitted-level-0: #fff5e6;\n",
       "  --sklearn-color-unfitted-level-1: #f6e4d2;\n",
       "  --sklearn-color-unfitted-level-2: #ffe0b3;\n",
       "  --sklearn-color-unfitted-level-3: chocolate;\n",
       "  /* Definition of color scheme for fitted estimators */\n",
       "  --sklearn-color-fitted-level-0: #f0f8ff;\n",
       "  --sklearn-color-fitted-level-1: #d4ebff;\n",
       "  --sklearn-color-fitted-level-2: #b3dbfd;\n",
       "  --sklearn-color-fitted-level-3: cornflowerblue;\n",
       "\n",
       "  /* Specific color for light theme */\n",
       "  --sklearn-color-text-on-default-background: var(--sg-text-color, var(--theme-code-foreground, var(--jp-content-font-color1, black)));\n",
       "  --sklearn-color-background: var(--sg-background-color, var(--theme-background, var(--jp-layout-color0, white)));\n",
       "  --sklearn-color-border-box: var(--sg-text-color, var(--theme-code-foreground, var(--jp-content-font-color1, black)));\n",
       "  --sklearn-color-icon: #696969;\n",
       "\n",
       "  @media (prefers-color-scheme: dark) {\n",
       "    /* Redefinition of color scheme for dark theme */\n",
       "    --sklearn-color-text-on-default-background: var(--sg-text-color, var(--theme-code-foreground, var(--jp-content-font-color1, white)));\n",
       "    --sklearn-color-background: var(--sg-background-color, var(--theme-background, var(--jp-layout-color0, #111)));\n",
       "    --sklearn-color-border-box: var(--sg-text-color, var(--theme-code-foreground, var(--jp-content-font-color1, white)));\n",
       "    --sklearn-color-icon: #878787;\n",
       "  }\n",
       "}\n",
       "\n",
       "#sk-container-id-1 {\n",
       "  color: var(--sklearn-color-text);\n",
       "}\n",
       "\n",
       "#sk-container-id-1 pre {\n",
       "  padding: 0;\n",
       "}\n",
       "\n",
       "#sk-container-id-1 input.sk-hidden--visually {\n",
       "  border: 0;\n",
       "  clip: rect(1px 1px 1px 1px);\n",
       "  clip: rect(1px, 1px, 1px, 1px);\n",
       "  height: 1px;\n",
       "  margin: -1px;\n",
       "  overflow: hidden;\n",
       "  padding: 0;\n",
       "  position: absolute;\n",
       "  width: 1px;\n",
       "}\n",
       "\n",
       "#sk-container-id-1 div.sk-dashed-wrapped {\n",
       "  border: 1px dashed var(--sklearn-color-line);\n",
       "  margin: 0 0.4em 0.5em 0.4em;\n",
       "  box-sizing: border-box;\n",
       "  padding-bottom: 0.4em;\n",
       "  background-color: var(--sklearn-color-background);\n",
       "}\n",
       "\n",
       "#sk-container-id-1 div.sk-container {\n",
       "  /* jupyter's `normalize.less` sets `[hidden] { display: none; }`\n",
       "     but bootstrap.min.css set `[hidden] { display: none !important; }`\n",
       "     so we also need the `!important` here to be able to override the\n",
       "     default hidden behavior on the sphinx rendered scikit-learn.org.\n",
       "     See: https://github.com/scikit-learn/scikit-learn/issues/21755 */\n",
       "  display: inline-block !important;\n",
       "  position: relative;\n",
       "}\n",
       "\n",
       "#sk-container-id-1 div.sk-text-repr-fallback {\n",
       "  display: none;\n",
       "}\n",
       "\n",
       "div.sk-parallel-item,\n",
       "div.sk-serial,\n",
       "div.sk-item {\n",
       "  /* draw centered vertical line to link estimators */\n",
       "  background-image: linear-gradient(var(--sklearn-color-text-on-default-background), var(--sklearn-color-text-on-default-background));\n",
       "  background-size: 2px 100%;\n",
       "  background-repeat: no-repeat;\n",
       "  background-position: center center;\n",
       "}\n",
       "\n",
       "/* Parallel-specific style estimator block */\n",
       "\n",
       "#sk-container-id-1 div.sk-parallel-item::after {\n",
       "  content: \"\";\n",
       "  width: 100%;\n",
       "  border-bottom: 2px solid var(--sklearn-color-text-on-default-background);\n",
       "  flex-grow: 1;\n",
       "}\n",
       "\n",
       "#sk-container-id-1 div.sk-parallel {\n",
       "  display: flex;\n",
       "  align-items: stretch;\n",
       "  justify-content: center;\n",
       "  background-color: var(--sklearn-color-background);\n",
       "  position: relative;\n",
       "}\n",
       "\n",
       "#sk-container-id-1 div.sk-parallel-item {\n",
       "  display: flex;\n",
       "  flex-direction: column;\n",
       "}\n",
       "\n",
       "#sk-container-id-1 div.sk-parallel-item:first-child::after {\n",
       "  align-self: flex-end;\n",
       "  width: 50%;\n",
       "}\n",
       "\n",
       "#sk-container-id-1 div.sk-parallel-item:last-child::after {\n",
       "  align-self: flex-start;\n",
       "  width: 50%;\n",
       "}\n",
       "\n",
       "#sk-container-id-1 div.sk-parallel-item:only-child::after {\n",
       "  width: 0;\n",
       "}\n",
       "\n",
       "/* Serial-specific style estimator block */\n",
       "\n",
       "#sk-container-id-1 div.sk-serial {\n",
       "  display: flex;\n",
       "  flex-direction: column;\n",
       "  align-items: center;\n",
       "  background-color: var(--sklearn-color-background);\n",
       "  padding-right: 1em;\n",
       "  padding-left: 1em;\n",
       "}\n",
       "\n",
       "\n",
       "/* Toggleable style: style used for estimator/Pipeline/ColumnTransformer box that is\n",
       "clickable and can be expanded/collapsed.\n",
       "- Pipeline and ColumnTransformer use this feature and define the default style\n",
       "- Estimators will overwrite some part of the style using the `sk-estimator` class\n",
       "*/\n",
       "\n",
       "/* Pipeline and ColumnTransformer style (default) */\n",
       "\n",
       "#sk-container-id-1 div.sk-toggleable {\n",
       "  /* Default theme specific background. It is overwritten whether we have a\n",
       "  specific estimator or a Pipeline/ColumnTransformer */\n",
       "  background-color: var(--sklearn-color-background);\n",
       "}\n",
       "\n",
       "/* Toggleable label */\n",
       "#sk-container-id-1 label.sk-toggleable__label {\n",
       "  cursor: pointer;\n",
       "  display: block;\n",
       "  width: 100%;\n",
       "  margin-bottom: 0;\n",
       "  padding: 0.5em;\n",
       "  box-sizing: border-box;\n",
       "  text-align: center;\n",
       "}\n",
       "\n",
       "#sk-container-id-1 label.sk-toggleable__label-arrow:before {\n",
       "  /* Arrow on the left of the label */\n",
       "  content: \"▸\";\n",
       "  float: left;\n",
       "  margin-right: 0.25em;\n",
       "  color: var(--sklearn-color-icon);\n",
       "}\n",
       "\n",
       "#sk-container-id-1 label.sk-toggleable__label-arrow:hover:before {\n",
       "  color: var(--sklearn-color-text);\n",
       "}\n",
       "\n",
       "/* Toggleable content - dropdown */\n",
       "\n",
       "#sk-container-id-1 div.sk-toggleable__content {\n",
       "  max-height: 0;\n",
       "  max-width: 0;\n",
       "  overflow: hidden;\n",
       "  text-align: left;\n",
       "  /* unfitted */\n",
       "  background-color: var(--sklearn-color-unfitted-level-0);\n",
       "}\n",
       "\n",
       "#sk-container-id-1 div.sk-toggleable__content.fitted {\n",
       "  /* fitted */\n",
       "  background-color: var(--sklearn-color-fitted-level-0);\n",
       "}\n",
       "\n",
       "#sk-container-id-1 div.sk-toggleable__content pre {\n",
       "  margin: 0.2em;\n",
       "  border-radius: 0.25em;\n",
       "  color: var(--sklearn-color-text);\n",
       "  /* unfitted */\n",
       "  background-color: var(--sklearn-color-unfitted-level-0);\n",
       "}\n",
       "\n",
       "#sk-container-id-1 div.sk-toggleable__content.fitted pre {\n",
       "  /* unfitted */\n",
       "  background-color: var(--sklearn-color-fitted-level-0);\n",
       "}\n",
       "\n",
       "#sk-container-id-1 input.sk-toggleable__control:checked~div.sk-toggleable__content {\n",
       "  /* Expand drop-down */\n",
       "  max-height: 200px;\n",
       "  max-width: 100%;\n",
       "  overflow: auto;\n",
       "}\n",
       "\n",
       "#sk-container-id-1 input.sk-toggleable__control:checked~label.sk-toggleable__label-arrow:before {\n",
       "  content: \"▾\";\n",
       "}\n",
       "\n",
       "/* Pipeline/ColumnTransformer-specific style */\n",
       "\n",
       "#sk-container-id-1 div.sk-label input.sk-toggleable__control:checked~label.sk-toggleable__label {\n",
       "  color: var(--sklearn-color-text);\n",
       "  background-color: var(--sklearn-color-unfitted-level-2);\n",
       "}\n",
       "\n",
       "#sk-container-id-1 div.sk-label.fitted input.sk-toggleable__control:checked~label.sk-toggleable__label {\n",
       "  background-color: var(--sklearn-color-fitted-level-2);\n",
       "}\n",
       "\n",
       "/* Estimator-specific style */\n",
       "\n",
       "/* Colorize estimator box */\n",
       "#sk-container-id-1 div.sk-estimator input.sk-toggleable__control:checked~label.sk-toggleable__label {\n",
       "  /* unfitted */\n",
       "  background-color: var(--sklearn-color-unfitted-level-2);\n",
       "}\n",
       "\n",
       "#sk-container-id-1 div.sk-estimator.fitted input.sk-toggleable__control:checked~label.sk-toggleable__label {\n",
       "  /* fitted */\n",
       "  background-color: var(--sklearn-color-fitted-level-2);\n",
       "}\n",
       "\n",
       "#sk-container-id-1 div.sk-label label.sk-toggleable__label,\n",
       "#sk-container-id-1 div.sk-label label {\n",
       "  /* The background is the default theme color */\n",
       "  color: var(--sklearn-color-text-on-default-background);\n",
       "}\n",
       "\n",
       "/* On hover, darken the color of the background */\n",
       "#sk-container-id-1 div.sk-label:hover label.sk-toggleable__label {\n",
       "  color: var(--sklearn-color-text);\n",
       "  background-color: var(--sklearn-color-unfitted-level-2);\n",
       "}\n",
       "\n",
       "/* Label box, darken color on hover, fitted */\n",
       "#sk-container-id-1 div.sk-label.fitted:hover label.sk-toggleable__label.fitted {\n",
       "  color: var(--sklearn-color-text);\n",
       "  background-color: var(--sklearn-color-fitted-level-2);\n",
       "}\n",
       "\n",
       "/* Estimator label */\n",
       "\n",
       "#sk-container-id-1 div.sk-label label {\n",
       "  font-family: monospace;\n",
       "  font-weight: bold;\n",
       "  display: inline-block;\n",
       "  line-height: 1.2em;\n",
       "}\n",
       "\n",
       "#sk-container-id-1 div.sk-label-container {\n",
       "  text-align: center;\n",
       "}\n",
       "\n",
       "/* Estimator-specific */\n",
       "#sk-container-id-1 div.sk-estimator {\n",
       "  font-family: monospace;\n",
       "  border: 1px dotted var(--sklearn-color-border-box);\n",
       "  border-radius: 0.25em;\n",
       "  box-sizing: border-box;\n",
       "  margin-bottom: 0.5em;\n",
       "  /* unfitted */\n",
       "  background-color: var(--sklearn-color-unfitted-level-0);\n",
       "}\n",
       "\n",
       "#sk-container-id-1 div.sk-estimator.fitted {\n",
       "  /* fitted */\n",
       "  background-color: var(--sklearn-color-fitted-level-0);\n",
       "}\n",
       "\n",
       "/* on hover */\n",
       "#sk-container-id-1 div.sk-estimator:hover {\n",
       "  /* unfitted */\n",
       "  background-color: var(--sklearn-color-unfitted-level-2);\n",
       "}\n",
       "\n",
       "#sk-container-id-1 div.sk-estimator.fitted:hover {\n",
       "  /* fitted */\n",
       "  background-color: var(--sklearn-color-fitted-level-2);\n",
       "}\n",
       "\n",
       "/* Specification for estimator info (e.g. \"i\" and \"?\") */\n",
       "\n",
       "/* Common style for \"i\" and \"?\" */\n",
       "\n",
       ".sk-estimator-doc-link,\n",
       "a:link.sk-estimator-doc-link,\n",
       "a:visited.sk-estimator-doc-link {\n",
       "  float: right;\n",
       "  font-size: smaller;\n",
       "  line-height: 1em;\n",
       "  font-family: monospace;\n",
       "  background-color: var(--sklearn-color-background);\n",
       "  border-radius: 1em;\n",
       "  height: 1em;\n",
       "  width: 1em;\n",
       "  text-decoration: none !important;\n",
       "  margin-left: 1ex;\n",
       "  /* unfitted */\n",
       "  border: var(--sklearn-color-unfitted-level-1) 1pt solid;\n",
       "  color: var(--sklearn-color-unfitted-level-1);\n",
       "}\n",
       "\n",
       ".sk-estimator-doc-link.fitted,\n",
       "a:link.sk-estimator-doc-link.fitted,\n",
       "a:visited.sk-estimator-doc-link.fitted {\n",
       "  /* fitted */\n",
       "  border: var(--sklearn-color-fitted-level-1) 1pt solid;\n",
       "  color: var(--sklearn-color-fitted-level-1);\n",
       "}\n",
       "\n",
       "/* On hover */\n",
       "div.sk-estimator:hover .sk-estimator-doc-link:hover,\n",
       ".sk-estimator-doc-link:hover,\n",
       "div.sk-label-container:hover .sk-estimator-doc-link:hover,\n",
       ".sk-estimator-doc-link:hover {\n",
       "  /* unfitted */\n",
       "  background-color: var(--sklearn-color-unfitted-level-3);\n",
       "  color: var(--sklearn-color-background);\n",
       "  text-decoration: none;\n",
       "}\n",
       "\n",
       "div.sk-estimator.fitted:hover .sk-estimator-doc-link.fitted:hover,\n",
       ".sk-estimator-doc-link.fitted:hover,\n",
       "div.sk-label-container:hover .sk-estimator-doc-link.fitted:hover,\n",
       ".sk-estimator-doc-link.fitted:hover {\n",
       "  /* fitted */\n",
       "  background-color: var(--sklearn-color-fitted-level-3);\n",
       "  color: var(--sklearn-color-background);\n",
       "  text-decoration: none;\n",
       "}\n",
       "\n",
       "/* Span, style for the box shown on hovering the info icon */\n",
       ".sk-estimator-doc-link span {\n",
       "  display: none;\n",
       "  z-index: 9999;\n",
       "  position: relative;\n",
       "  font-weight: normal;\n",
       "  right: .2ex;\n",
       "  padding: .5ex;\n",
       "  margin: .5ex;\n",
       "  width: min-content;\n",
       "  min-width: 20ex;\n",
       "  max-width: 50ex;\n",
       "  color: var(--sklearn-color-text);\n",
       "  box-shadow: 2pt 2pt 4pt #999;\n",
       "  /* unfitted */\n",
       "  background: var(--sklearn-color-unfitted-level-0);\n",
       "  border: .5pt solid var(--sklearn-color-unfitted-level-3);\n",
       "}\n",
       "\n",
       ".sk-estimator-doc-link.fitted span {\n",
       "  /* fitted */\n",
       "  background: var(--sklearn-color-fitted-level-0);\n",
       "  border: var(--sklearn-color-fitted-level-3);\n",
       "}\n",
       "\n",
       ".sk-estimator-doc-link:hover span {\n",
       "  display: block;\n",
       "}\n",
       "\n",
       "/* \"?\"-specific style due to the `<a>` HTML tag */\n",
       "\n",
       "#sk-container-id-1 a.estimator_doc_link {\n",
       "  float: right;\n",
       "  font-size: 1rem;\n",
       "  line-height: 1em;\n",
       "  font-family: monospace;\n",
       "  background-color: var(--sklearn-color-background);\n",
       "  border-radius: 1rem;\n",
       "  height: 1rem;\n",
       "  width: 1rem;\n",
       "  text-decoration: none;\n",
       "  /* unfitted */\n",
       "  color: var(--sklearn-color-unfitted-level-1);\n",
       "  border: var(--sklearn-color-unfitted-level-1) 1pt solid;\n",
       "}\n",
       "\n",
       "#sk-container-id-1 a.estimator_doc_link.fitted {\n",
       "  /* fitted */\n",
       "  border: var(--sklearn-color-fitted-level-1) 1pt solid;\n",
       "  color: var(--sklearn-color-fitted-level-1);\n",
       "}\n",
       "\n",
       "/* On hover */\n",
       "#sk-container-id-1 a.estimator_doc_link:hover {\n",
       "  /* unfitted */\n",
       "  background-color: var(--sklearn-color-unfitted-level-3);\n",
       "  color: var(--sklearn-color-background);\n",
       "  text-decoration: none;\n",
       "}\n",
       "\n",
       "#sk-container-id-1 a.estimator_doc_link.fitted:hover {\n",
       "  /* fitted */\n",
       "  background-color: var(--sklearn-color-fitted-level-3);\n",
       "}\n",
       "</style><div id=\"sk-container-id-1\" class=\"sk-top-container\"><div class=\"sk-text-repr-fallback\"><pre>LogisticRegression()</pre><b>In a Jupyter environment, please rerun this cell to show the HTML representation or trust the notebook. <br />On GitHub, the HTML representation is unable to render, please try loading this page with nbviewer.org.</b></div><div class=\"sk-container\" hidden><div class=\"sk-item\"><div class=\"sk-estimator fitted sk-toggleable\"><input class=\"sk-toggleable__control sk-hidden--visually\" id=\"sk-estimator-id-1\" type=\"checkbox\" checked><label for=\"sk-estimator-id-1\" class=\"sk-toggleable__label fitted sk-toggleable__label-arrow fitted\">&nbsp;&nbsp;LogisticRegression<a class=\"sk-estimator-doc-link fitted\" rel=\"noreferrer\" target=\"_blank\" href=\"https://scikit-learn.org/1.4/modules/generated/sklearn.linear_model.LogisticRegression.html\">?<span>Documentation for LogisticRegression</span></a><span class=\"sk-estimator-doc-link fitted\">i<span>Fitted</span></span></label><div class=\"sk-toggleable__content fitted\"><pre>LogisticRegression()</pre></div> </div></div></div></div>"
      ],
      "text/plain": [
       "LogisticRegression()"
      ]
     },
     "execution_count": 43,
     "metadata": {},
     "output_type": "execute_result"
    }
   ],
   "source": [
    "#Se define el algoritmo a usar, en este caso por los tipos de datos en clasificación, se usará la REGRESIÓ LOGÍSTICA\n",
    "from sklearn.linear_model import LogisticRegression\n",
    "algoritmo =LogisticRegression()\n",
    "# Entrenamos el modelo\n",
    "algoritmo.fit(X_train, y_train)"
   ]
  },
  {
   "cell_type": "code",
   "execution_count": 44,
   "metadata": {},
   "outputs": [
    {
     "data": {
      "text/plain": [
       "array([ 1, -1,  1, ...,  1,  1,  1], dtype=int64)"
      ]
     },
     "execution_count": 44,
     "metadata": {},
     "output_type": "execute_result"
    }
   ],
   "source": [
    "#Realizamos una predicción de los datos a prueba (estos siempre son aleatorios por default)\n",
    "y_pred=algoritmo.predict(X_test)\n",
    "# Se muestran los datos predichos\n",
    "y_pred"
   ]
  },
  {
   "cell_type": "code",
   "execution_count": 45,
   "metadata": {},
   "outputs": [
    {
     "data": {
      "text/plain": [
       "198275    1\n",
       "442278   -1\n",
       "636337    1\n",
       "347254    1\n",
       "481721    1\n",
       "         ..\n",
       "49847     1\n",
       "91945     1\n",
       "382135    1\n",
       "730757    1\n",
       "464315    1\n",
       "Name: categorizacion, Length: 164980, dtype: int64"
      ]
     },
     "execution_count": 45,
     "metadata": {},
     "output_type": "execute_result"
    }
   ],
   "source": [
    "# Se muestran los datos reales\n",
    "y_test"
   ]
  },
  {
   "cell_type": "markdown",
   "metadata": {},
   "source": [
    "Se utiliziará la Matriz de confusión para evaluar y analizar el rendimiento de un modelo de clasificación al mostrar la concordancia entre las etiquetas de clase reales y las etiquetas de clase predichas.\n"
   ]
  },
  {
   "cell_type": "code",
   "execution_count": 46,
   "metadata": {},
   "outputs": [],
   "source": [
    "# Se importa la matriz confusión de sklearn\n",
    "from sklearn.metrics import confusion_matrix"
   ]
  },
  {
   "cell_type": "code",
   "execution_count": 47,
   "metadata": {},
   "outputs": [
    {
     "name": "stdout",
     "output_type": "stream",
     "text": [
      "Matriz de confusión: [[ 21912      0]\n",
      " [   155 142913]]\n"
     ]
    }
   ],
   "source": [
    "matriz=confusion_matrix(y_test,y_pred)\n",
    "print('Matriz de confusión:', matriz) # Solo se evalúa un 20% de los datos"
   ]
  },
  {
   "cell_type": "code",
   "execution_count": 48,
   "metadata": {},
   "outputs": [],
   "source": [
    "#Se utiliza SVC de sklearn para saber las probabilidades de las clasificaciones de los datos según el modelo aplicado\n",
    "from sklearn.svm import SVC"
   ]
  },
  {
   "cell_type": "code",
   "execution_count": 49,
   "metadata": {},
   "outputs": [],
   "source": [
    "import numpy as np"
   ]
  },
  {
   "cell_type": "code",
   "execution_count": 50,
   "metadata": {},
   "outputs": [
    {
     "name": "stdout",
     "output_type": "stream",
     "text": [
      "[[0. 1.]\n",
      " [1. 0.]\n",
      " [0. 1.]\n",
      " ...\n",
      " [0. 1.]\n",
      " [0. 1.]\n",
      " [0. 1.]]\n"
     ]
    }
   ],
   "source": [
    "# Crear un estimador SVC\n",
    "algoritmo2= SVC(probability=True)\n",
    "\n",
    "# Ajustar el estimador a los datos de entrenamiento\n",
    "algoritmo2.fit(X_train, y_train)\n",
    "\n",
    "# Obtener las probabilidades de predicción para los datos de prueba\n",
    "probas = algoritmo2.predict_proba(X_test)\n",
    "\n",
    "print((np.round(probas,decimals=5)))"
   ]
  },
  {
   "cell_type": "code",
   "execution_count": 51,
   "metadata": {},
   "outputs": [
    {
     "name": "stdout",
     "output_type": "stream",
     "text": [
      "Análisis de predicción de sentimientos de los comentarios\n",
      "Precisión del clasificador GaussianNB en el conjunto de entrenamiento: 0.98\n",
      "Precisión del clasificador GaussianNB en el conjunto de prueba: 0.98\n"
     ]
    }
   ],
   "source": [
    "#Se usa GaussianNaiveBayes para que ausma una distribución normal para conocer la precisión de la predicción de las variables entrenadas y de prueba\n",
    "from sklearn.naive_bayes import GaussianNB\n",
    "\n",
    "nbclf = GaussianNB().fit(X_train, y_train)\n",
    "predicted = nbclf.predict(X_test)\n",
    "print('Análisis de predicción de sentimientos de los comentarios')\n",
    "print('Precisión del clasificador GaussianNB en el conjunto de entrenamiento: {:.2f}'.format(nbclf.score(X_train, y_train)))\n",
    "print('Precisión del clasificador GaussianNB en el conjunto de prueba: {:.2f}'.format(nbclf.score(X_test, y_test)))"
   ]
  },
  {
   "cell_type": "code",
   "execution_count": 52,
   "metadata": {},
   "outputs": [
    {
     "name": "stdout",
     "output_type": "stream",
     "text": [
      "Informe de clasificación para clasificador GaussianNB():\n",
      "              precision    recall  f1-score   support\n",
      "\n",
      "          -1       0.88      1.00      0.94     21912\n",
      "           1       1.00      0.98      0.99    143068\n",
      "\n",
      "    accuracy                           0.98    164980\n",
      "   macro avg       0.94      0.99      0.96    164980\n",
      "weighted avg       0.98      0.98      0.98    164980\n",
      "\n",
      "\n"
     ]
    }
   ],
   "source": [
    "#Se usa Metrics para evaluar y comparar el desempeño del modelo, en este caso, utilizaremos las del tipo clasificación por los tipos de datos\n",
    "from sklearn import metrics\n",
    "\n",
    "print(\"Informe de clasificación para clasificador %s:\\n%s\\n\"\n",
    "      % (nbclf, metrics.classification_report(y_test, predicted)))"
   ]
  }
 ],
 "metadata": {
  "kernelspec": {
   "display_name": "proy_final",
   "language": "python",
   "name": "python3"
  },
  "language_info": {
   "codemirror_mode": {
    "name": "ipython",
    "version": 3
   },
   "file_extension": ".py",
   "mimetype": "text/x-python",
   "name": "python",
   "nbconvert_exporter": "python",
   "pygments_lexer": "ipython3",
   "version": "3.11.4"
  }
 },
 "nbformat": 4,
 "nbformat_minor": 2
}
